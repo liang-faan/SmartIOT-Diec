{
  "nbformat": 4,
  "nbformat_minor": 0,
  "metadata": {
    "colab": {
      "name": "pyswarms v tensorflow",
      "provenance": [],
      "collapsed_sections": [],
      "machine_shape": "hm",
      "include_colab_link": true
    },
    "kernelspec": {
      "name": "python3",
      "display_name": "Python 3"
    }
  },
  "cells": [
    {
      "cell_type": "markdown",
      "metadata": {
        "id": "view-in-github",
        "colab_type": "text"
      },
      "source": [
        "<a href=\"https://colab.research.google.com/github/lisaong/diec/blob/master/day3/pyswarms_v_tensorflow.ipynb\" target=\"_parent\"><img src=\"https://colab.research.google.com/assets/colab-badge.svg\" alt=\"Open In Colab\"/></a>"
      ]
    },
    {
      "cell_type": "code",
      "metadata": {
        "id": "2sajCbs5ZHV3",
        "colab_type": "code",
        "outputId": "429fb3f7-f30c-4552-cf30-e90be66265a2",
        "colab": {
          "base_uri": "https://localhost:8080/",
          "height": 34
        }
      },
      "source": [
        "%tensorflow_version 2.x"
      ],
      "execution_count": 3,
      "outputs": [
        {
          "output_type": "stream",
          "text": [
            "TensorFlow 2.x selected.\n"
          ],
          "name": "stdout"
        }
      ]
    },
    {
      "cell_type": "code",
      "metadata": {
        "id": "fCNQItiKZOzZ",
        "colab_type": "code",
        "outputId": "765eddd1-5ba1-4ea1-fbac-90cfef65d954",
        "colab": {
          "base_uri": "https://localhost:8080/",
          "height": 260
        }
      },
      "source": [
        "!pip install pyswarms"
      ],
      "execution_count": 4,
      "outputs": [
        {
          "output_type": "stream",
          "text": [
            "Requirement already satisfied: pyswarms in /usr/local/lib/python3.6/dist-packages (1.1.0)\n",
            "Requirement already satisfied: attrs in /usr/local/lib/python3.6/dist-packages (from pyswarms) (19.3.0)\n",
            "Requirement already satisfied: numpy in /tensorflow-2.0.0/python3.6 (from pyswarms) (1.17.4)\n",
            "Requirement already satisfied: tqdm in /usr/local/lib/python3.6/dist-packages (from pyswarms) (4.28.1)\n",
            "Requirement already satisfied: scipy in /usr/local/lib/python3.6/dist-packages (from pyswarms) (1.3.3)\n",
            "Requirement already satisfied: matplotlib>=1.3.1 in /usr/local/lib/python3.6/dist-packages (from pyswarms) (3.1.2)\n",
            "Requirement already satisfied: future in /usr/local/lib/python3.6/dist-packages (from pyswarms) (0.16.0)\n",
            "Requirement already satisfied: kiwisolver>=1.0.1 in /usr/local/lib/python3.6/dist-packages (from matplotlib>=1.3.1->pyswarms) (1.1.0)\n",
            "Requirement already satisfied: cycler>=0.10 in /usr/local/lib/python3.6/dist-packages (from matplotlib>=1.3.1->pyswarms) (0.10.0)\n",
            "Requirement already satisfied: pyparsing!=2.0.4,!=2.1.2,!=2.1.6,>=2.0.1 in /usr/local/lib/python3.6/dist-packages (from matplotlib>=1.3.1->pyswarms) (2.4.5)\n",
            "Requirement already satisfied: python-dateutil>=2.1 in /usr/local/lib/python3.6/dist-packages (from matplotlib>=1.3.1->pyswarms) (2.6.1)\n",
            "Requirement already satisfied: setuptools in /tensorflow-2.0.0/python3.6 (from kiwisolver>=1.0.1->matplotlib>=1.3.1->pyswarms) (42.0.2)\n",
            "Requirement already satisfied: six in /tensorflow-2.0.0/python3.6 (from cycler>=0.10->matplotlib>=1.3.1->pyswarms) (1.13.0)\n"
          ],
          "name": "stdout"
        }
      ]
    },
    {
      "cell_type": "code",
      "metadata": {
        "id": "bmM8kq73ZY5N",
        "colab_type": "code",
        "colab": {}
      },
      "source": [
        "import tensorflow as tf\n",
        "import pyswarms as ps"
      ],
      "execution_count": 0,
      "outputs": []
    },
    {
      "cell_type": "code",
      "metadata": {
        "id": "vkniviAJZjmP",
        "colab_type": "code",
        "colab": {}
      },
      "source": [
        "# load dataset\n",
        "from tensorflow.keras.datasets.mnist import load_data\n",
        "\n",
        "(X_train, y_train), (X_test, y_test) = load_data()"
      ],
      "execution_count": 0,
      "outputs": []
    },
    {
      "cell_type": "code",
      "metadata": {
        "id": "7VjiXCZsb2FF",
        "colab_type": "code",
        "colab": {}
      },
      "source": [
        "# scale to enable convergence\n",
        "X_train_flat = X_train.reshape(X_train.shape[0], -1) / 255\n",
        "X_test_flat = X_test.reshape(X_test.shape[0], -1) / 255"
      ],
      "execution_count": 0,
      "outputs": []
    },
    {
      "cell_type": "code",
      "metadata": {
        "id": "h4g70mh5cjLR",
        "colab_type": "code",
        "colab": {}
      },
      "source": [
        "y_train_cat = tf.keras.utils.to_categorical(y_train)\n",
        "y_test_cat = tf.keras.utils.to_categorical(y_test)"
      ],
      "execution_count": 0,
      "outputs": []
    },
    {
      "cell_type": "code",
      "metadata": {
        "id": "i9CniN-ZaSDI",
        "colab_type": "code",
        "colab": {}
      },
      "source": [
        ""
      ],
      "execution_count": 0,
      "outputs": []
    },
    {
      "cell_type": "code",
      "metadata": {
        "id": "v4_RemPSaj45",
        "colab_type": "code",
        "outputId": "482390f1-f0d4-4747-e8df-595eb08a74cc",
        "colab": {
          "base_uri": "https://localhost:8080/",
          "height": 257
        }
      },
      "source": [
        "from tensorflow.keras.models import Sequential\n",
        "from tensorflow.keras.layers import Dense\n",
        "\n",
        "model = Sequential()\n",
        "model.add(Dense(512, input_shape=(X_train_flat.shape[1],), activation='relu'))\n",
        "model.add(Dense(128, activation='relu'))\n",
        "model.add(Dense(y_train_cat.shape[1], activation='softmax'))\n",
        "model.summary()"
      ],
      "execution_count": 9,
      "outputs": [
        {
          "output_type": "stream",
          "text": [
            "Model: \"sequential\"\n",
            "_________________________________________________________________\n",
            "Layer (type)                 Output Shape              Param #   \n",
            "=================================================================\n",
            "dense (Dense)                (None, 512)               401920    \n",
            "_________________________________________________________________\n",
            "dense_1 (Dense)              (None, 128)               65664     \n",
            "_________________________________________________________________\n",
            "dense_2 (Dense)              (None, 10)                1290      \n",
            "=================================================================\n",
            "Total params: 468,874\n",
            "Trainable params: 468,874\n",
            "Non-trainable params: 0\n",
            "_________________________________________________________________\n"
          ],
          "name": "stdout"
        }
      ]
    },
    {
      "cell_type": "code",
      "metadata": {
        "id": "H-J0t8KRdfP0",
        "colab_type": "code",
        "colab": {}
      },
      "source": [
        "from tensorflow.keras.callbacks import TensorBoard"
      ],
      "execution_count": 0,
      "outputs": []
    },
    {
      "cell_type": "code",
      "metadata": {
        "id": "MR3IKauzddtK",
        "colab_type": "code",
        "outputId": "488ed1c5-a969-4aad-c6b9-af1148178538",
        "colab": {
          "resources": {
            "http://localhost:6006/": {
              "data": "CjwhRE9DVFlQRSBodG1sPgo8aHRtbCBsYW5nPWVuPgogIDxtZXRhIGNoYXJzZXQ9dXRmLTg+CiAgPG1ldGEgbmFtZT12aWV3cG9ydCBjb250ZW50PSJpbml0aWFsLXNjYWxlPTEsIG1pbmltdW0tc2NhbGU9MSwgd2lkdGg9ZGV2aWNlLXdpZHRoIj4KICA8dGl0bGU+RXJyb3IgNTAwIChJbnRlcm5hbCBTZXJ2ZXIgRXJyb3IpISExPC90aXRsZT4KICA8c3R5bGU+CiAgICAqe21hcmdpbjowO3BhZGRpbmc6MH1odG1sLGNvZGV7Zm9udDoxNXB4LzIycHggYXJpYWwsc2Fucy1zZXJpZn1odG1se2JhY2tncm91bmQ6I2ZmZjtjb2xvcjojMjIyO3BhZGRpbmc6MTVweH1ib2R5e21hcmdpbjo3JSBhdXRvIDA7bWF4LXdpZHRoOjM5MHB4O21pbi1oZWlnaHQ6MTgwcHg7cGFkZGluZzozMHB4IDAgMTVweH0qID4gYm9keXtiYWNrZ3JvdW5kOnVybCgvL3d3dy5nb29nbGUuY29tL2ltYWdlcy9lcnJvcnMvcm9ib3QucG5nKSAxMDAlIDVweCBuby1yZXBlYXQ7cGFkZGluZy1yaWdodDoyMDVweH1we21hcmdpbjoxMXB4IDAgMjJweDtvdmVyZmxvdzpoaWRkZW59aW5ze2NvbG9yOiM3Nzc7dGV4dC1kZWNvcmF0aW9uOm5vbmV9YSBpbWd7Ym9yZGVyOjB9QG1lZGlhIHNjcmVlbiBhbmQgKG1heC13aWR0aDo3NzJweCl7Ym9keXtiYWNrZ3JvdW5kOm5vbmU7bWFyZ2luLXRvcDowO21heC13aWR0aDpub25lO3BhZGRpbmctcmlnaHQ6MH19I2xvZ297YmFja2dyb3VuZDp1cmwoLy93d3cuZ29vZ2xlLmNvbS9pbWFnZXMvbG9nb3MvZXJyb3JwYWdlL2Vycm9yX2xvZ28tMTUweDU0LnBuZykgbm8tcmVwZWF0O21hcmdpbi1sZWZ0Oi01cHh9QG1lZGlhIG9ubHkgc2NyZWVuIGFuZCAobWluLXJlc29sdXRpb246MTkyZHBpKXsjbG9nb3tiYWNrZ3JvdW5kOnVybCgvL3d3dy5nb29nbGUuY29tL2ltYWdlcy9sb2dvcy9lcnJvcnBhZ2UvZXJyb3JfbG9nby0xNTB4NTQtMngucG5nKSBuby1yZXBlYXQgMCUgMCUvMTAwJSAxMDAlOy1tb3otYm9yZGVyLWltYWdlOnVybCgvL3d3dy5nb29nbGUuY29tL2ltYWdlcy9sb2dvcy9lcnJvcnBhZ2UvZXJyb3JfbG9nby0xNTB4NTQtMngucG5nKSAwfX1AbWVkaWEgb25seSBzY3JlZW4gYW5kICgtd2Via2l0LW1pbi1kZXZpY2UtcGl4ZWwtcmF0aW86Mil7I2xvZ297YmFja2dyb3VuZDp1cmwoLy93d3cuZ29vZ2xlLmNvbS9pbWFnZXMvbG9nb3MvZXJyb3JwYWdlL2Vycm9yX2xvZ28tMTUweDU0LTJ4LnBuZykgbm8tcmVwZWF0Oy13ZWJraXQtYmFja2dyb3VuZC1zaXplOjEwMCUgMTAwJX19I2xvZ297ZGlzcGxheTppbmxpbmUtYmxvY2s7aGVpZ2h0OjU0cHg7d2lkdGg6MTUwcHh9CiAgPC9zdHlsZT4KICA8YSBocmVmPS8vd3d3Lmdvb2dsZS5jb20vPjxzcGFuIGlkPWxvZ28gYXJpYS1sYWJlbD1Hb29nbGU+PC9zcGFuPjwvYT4KICA8cD48Yj41MDAuPC9iPiA8aW5zPlRoYXTigJlzIGFuIGVycm9yLjwvaW5zPgogIDxwPiAgPGlucz5UaGF04oCZcyBhbGwgd2Uga25vdy48L2lucz4K",
              "ok": false,
              "headers": [
                [
                  "content-length",
                  "1461"
                ],
                [
                  "content-type",
                  "text/html; charset=utf-8"
                ]
              ],
              "status": 500,
              "status_text": ""
            }
          },
          "base_uri": "https://localhost:8080/",
          "height": 34
        }
      },
      "source": [
        "%load_ext tensorboard\n",
        "%tensorboard --logdir logs2"
      ],
      "execution_count": 11,
      "outputs": [
        {
          "output_type": "display_data",
          "data": {
            "text/plain": [
              "Reusing TensorBoard on port 6006 (pid 207), started 0:11:11 ago. (Use '!kill 207' to kill it.)"
            ]
          },
          "metadata": {
            "tags": []
          }
        },
        {
          "output_type": "display_data",
          "data": {
            "text/html": [
              "\n",
              "    <div id=\"root\"></div>\n",
              "    <script>\n",
              "      (function() {\n",
              "        window.TENSORBOARD_ENV = window.TENSORBOARD_ENV || {};\n",
              "        window.TENSORBOARD_ENV[\"IN_COLAB\"] = true;\n",
              "        document.querySelector(\"base\").href = \"https://localhost:6006\";\n",
              "        function fixUpTensorboard(root) {\n",
              "          const tftb = root.querySelector(\"tf-tensorboard\");\n",
              "          // Disable the fragment manipulation behavior in Colab. Not\n",
              "          // only is the behavior not useful (as the iframe's location\n",
              "          // is not visible to the user), it causes TensorBoard's usage\n",
              "          // of `window.replace` to navigate away from the page and to\n",
              "          // the `localhost:<port>` URL specified by the base URI, which\n",
              "          // in turn causes the frame to (likely) crash.\n",
              "          tftb.removeAttribute(\"use-hash\");\n",
              "        }\n",
              "        function executeAllScripts(root) {\n",
              "          // When `script` elements are inserted into the DOM by\n",
              "          // assigning to an element's `innerHTML`, the scripts are not\n",
              "          // executed. Thus, we manually re-insert these scripts so that\n",
              "          // TensorBoard can initialize itself.\n",
              "          for (const script of root.querySelectorAll(\"script\")) {\n",
              "            const newScript = document.createElement(\"script\");\n",
              "            newScript.type = script.type;\n",
              "            newScript.textContent = script.textContent;\n",
              "            root.appendChild(newScript);\n",
              "            script.remove();\n",
              "          }\n",
              "        }\n",
              "        function setHeight(root, height) {\n",
              "          // We set the height dynamically after the TensorBoard UI has\n",
              "          // been initialized. This avoids an intermediate state in\n",
              "          // which the container plus the UI become taller than the\n",
              "          // final width and cause the Colab output frame to be\n",
              "          // permanently resized, eventually leading to an empty\n",
              "          // vertical gap below the TensorBoard UI. It's not clear\n",
              "          // exactly what causes this problematic intermediate state,\n",
              "          // but setting the height late seems to fix it.\n",
              "          root.style.height = `${height}px`;\n",
              "        }\n",
              "        const root = document.getElementById(\"root\");\n",
              "        fetch(\".\")\n",
              "          .then((x) => x.text())\n",
              "          .then((html) => void (root.innerHTML = html))\n",
              "          .then(() => fixUpTensorboard(root))\n",
              "          .then(() => executeAllScripts(root))\n",
              "          .then(() => setHeight(root, 800));\n",
              "      })();\n",
              "    </script>\n",
              "  "
            ],
            "text/plain": [
              "<IPython.core.display.HTML object>"
            ]
          },
          "metadata": {
            "tags": []
          }
        }
      ]
    },
    {
      "cell_type": "code",
      "metadata": {
        "id": "wtIS4ZmXcVEz",
        "colab_type": "code",
        "outputId": "edcbfe02-0288-4f0c-9d7d-c88d3d00d81d",
        "colab": {
          "base_uri": "https://localhost:8080/",
          "height": 223
        }
      },
      "source": [
        "import datetime as datetime\n",
        "import os\n",
        "logdir = os.path.join('logs2', datetime.datetime.now().strftime(\"%Y%m%d-%H%M%S\"))\n",
        "\n",
        "tb = TensorBoard(log_dir=logdir)\n",
        "model.compile(optimizer='rmsprop', loss='categorical_crossentropy', metrics=['accuracy'])\n",
        "\n",
        "N = 1000\n",
        "\n",
        "# batch_size 1 to simplify pyswarm comparison\n",
        "model.fit(X_train_flat[:N], y_train_cat[:N], batch_size=1, epochs=5,\n",
        "          callbacks=[tb])"
      ],
      "execution_count": 12,
      "outputs": [
        {
          "output_type": "stream",
          "text": [
            "Train on 1000 samples\n",
            "Epoch 1/5\n",
            "1000/1000 [==============================] - 6s 6ms/sample - loss: 0.8572 - accuracy: 0.7400\n",
            "Epoch 2/5\n",
            "1000/1000 [==============================] - 5s 5ms/sample - loss: 0.4270 - accuracy: 0.8940\n",
            "Epoch 3/5\n",
            "1000/1000 [==============================] - 4s 4ms/sample - loss: 0.2914 - accuracy: 0.9330\n",
            "Epoch 4/5\n",
            "1000/1000 [==============================] - 4s 4ms/sample - loss: 0.1852 - accuracy: 0.9560\n",
            "Epoch 5/5\n",
            "1000/1000 [==============================] - 4s 4ms/sample - loss: 0.1205 - accuracy: 0.9770\n"
          ],
          "name": "stdout"
        },
        {
          "output_type": "execute_result",
          "data": {
            "text/plain": [
              "<tensorflow.python.keras.callbacks.History at 0x7f4b55b95a58>"
            ]
          },
          "metadata": {
            "tags": []
          },
          "execution_count": 12
        }
      ]
    },
    {
      "cell_type": "code",
      "metadata": {
        "id": "BVNu8aoUc9V2",
        "colab_type": "code",
        "outputId": "459893e4-c6d9-4b69-9685-94805e8cb6b0",
        "colab": {
          "base_uri": "https://localhost:8080/",
          "height": 34
        }
      },
      "source": [
        "# pyswarm\n",
        "# https://pyswarms.readthedocs.io/en/latest/examples/usecases/train_neural_network.html\n",
        "#\n",
        "# Neural network architecture\n",
        "# =================================================================\n",
        "# dense_3 (Dense)              (None, 512)               401920    \n",
        "# _________________________________________________________________\n",
        "# dense_4 (Dense)              (None, 128)               65664     \n",
        "# _________________________________________________________________\n",
        "# dense_5 (Dense)              (None, 10)                1290      \n",
        "# =================================================================\n",
        "\n",
        "n_inputs = 784 # W1: 784 x 512, b1: 512\n",
        "n_hidden1 = 512 # W2: 512 x 128, b2: 128\n",
        "n_hidden2 = 128 # W3: 128 x 10, b3: 10\n",
        "n_classes = 10\n",
        "\n",
        "chunks = [\n",
        "  n_inputs*n_hidden1,\n",
        "  n_hidden1,\n",
        "  n_hidden1*n_hidden2,\n",
        "  n_hidden2,\n",
        "  n_hidden2*n_classes,\n",
        "  n_classes\n",
        "]\n",
        "\n",
        "import numpy as np\n",
        "dimensions = np.sum(np.array(chunks))\n",
        "print(dimensions)"
      ],
      "execution_count": 13,
      "outputs": [
        {
          "output_type": "stream",
          "text": [
            "468874\n"
          ],
          "name": "stdout"
        }
      ]
    },
    {
      "cell_type": "code",
      "metadata": {
        "id": "BWmbJFKSnxLX",
        "colab_type": "code",
        "colab": {}
      },
      "source": [
        "def stable_softmax(x):\n",
        "    z = x - np.max(x)\n",
        "    numerator = np.exp(z)\n",
        "    denominator = np.sum(numerator)\n",
        "    return numerator/denominator\n",
        "\n",
        "def cross_entropy(targets, predictions, epsilon=1e-12):\n",
        "    \"\"\"\n",
        "    Computes cross entropy between targets (encoded as one-hot vectors)\n",
        "    and predictions. \n",
        "    Input: targets (N, k) ndarray\n",
        "           predictions (N, k) ndarray\n",
        "    Returns: scalar\n",
        "    \"\"\"\n",
        "    predictions = np.clip(predictions, epsilon, 1. - epsilon)\n",
        "    N = predictions.shape[0]\n",
        "    ce = -np.sum(targets*np.log(predictions+1e-9))/N\n",
        "    return ce\n",
        "\n",
        "def relu(x):\n",
        "  return np.maximum(x, 0)\n",
        "\n",
        "def forward(params, X):\n",
        "    # Roll-back the weights and biases (can probably be a loop)\n",
        "    offset = 0\n",
        "    W1 = params[offset:offset+chunks[0]].reshape((n_inputs, n_hidden1))\n",
        "    offset = offset + chunks[0]\n",
        "    b1 = params[offset:offset+chunks[1]].reshape((n_hidden1,))\n",
        "    offset = offset + chunks[1]\n",
        "    W2 = params[offset:offset+chunks[2]].reshape((n_hidden1, n_hidden2))\n",
        "    offset = offset + chunks[2]\n",
        "    b2 = params[offset:offset+chunks[3]].reshape((n_hidden2,))\n",
        "    offset = offset + chunks[3]\n",
        "    W3 = params[offset:offset+chunks[4]].reshape((n_hidden2, n_classes))\n",
        "    offset = offset + chunks[4]\n",
        "    b3 = params[offset:offset+chunks[5]].reshape((n_classes,))\n",
        "\n",
        "    z1 = X.dot(W1) + b1   # Pre-activation in Layer 1\n",
        "    a1 = relu(z1)         # Activation in Layer 1\n",
        "    z2 = a1.dot(W2) + b2  # Pre-activation in Layer 2\n",
        "    a2 = relu(z2)         # Activation in Layer 2\n",
        "    z3 = a2.dot(W3) + b3  # Pre-activation in Layer 3\n",
        "    logits = z3           # Logits for Layer 3\n",
        "    return logits\n",
        "\n",
        "def forward_prop(params):\n",
        "    \"\"\"Forward propagation as objective function\n",
        "\n",
        "    This computes for the forward propagation of the neural network, as\n",
        "    well as the loss. It receives a set of parameters that must be\n",
        "    rolled-back into the corresponding weights and biases.\n",
        "\n",
        "    Inputs\n",
        "    ------\n",
        "    params: np.ndarray\n",
        "        The dimensions should include an unrolled version of the\n",
        "        weights and biases.\n",
        "\n",
        "    Returns\n",
        "    -------\n",
        "    float\n",
        "        The computed negative log-likelihood loss given the parameters\n",
        "    \"\"\"\n",
        "    # Perform forward propagation\n",
        "    X = X_train_flat[:N]\n",
        "    y = y_train_cat[:N]\n",
        "\n",
        "    logits = forward(params, X)\n",
        "\n",
        "    # Compute for the softmax of the logits\n",
        "    #exp_scores = np.exp(logits)\n",
        "    #probs = exp_scores / np.sum(exp_scores, axis=1, keepdims=True)\n",
        "    probs = stable_softmax(logits)\n",
        "\n",
        "    # Compute for the negative log likelihood\n",
        "    #correct_logprobs = -np.log(probs[range(N), y])\n",
        "    #loss = np.sum(correct_logprobs) / N\n",
        "    loss = cross_entropy(y, probs)\n",
        "    return loss\n",
        "\n",
        "def f(x):\n",
        "    \"\"\"Higher-level method to do forward_prop in the\n",
        "    whole swarm.\n",
        "\n",
        "    Inputs\n",
        "    ------\n",
        "    x: numpy.ndarray of shape (n_particles, dimensions)\n",
        "        The swarm that will perform the search\n",
        "\n",
        "    Returns\n",
        "    -------\n",
        "    numpy.ndarray of shape (n_particles, )\n",
        "        The computed loss for each particle\n",
        "    \"\"\"\n",
        "    n_particles = x.shape[0]\n",
        "    j = [forward_prop(x[i]) for i in range(n_particles)]\n",
        "    return np.array(j)\n",
        "\n",
        "def predict(X, pos):\n",
        "    \"\"\"\n",
        "    Use the trained weights to perform class predictions.\n",
        "\n",
        "    Inputs\n",
        "    ------\n",
        "    X: numpy.ndarray\n",
        "        Input dataset\n",
        "    pos: numpy.ndarray\n",
        "        Position matrix found by the swarm. Will be rolled\n",
        "        into weights and biases.\n",
        "    \"\"\"\n",
        "    logits = forward(pos, X)\n",
        "    y_pred = np.argmax(logits, axis=1)\n",
        "    return y_pred"
      ],
      "execution_count": 0,
      "outputs": []
    },
    {
      "cell_type": "code",
      "metadata": {
        "id": "T159V61wnzL6",
        "colab_type": "code",
        "outputId": "2f003e3e-84b5-4b44-a68d-70a0e14eb1e6",
        "colab": {
          "base_uri": "https://localhost:8080/",
          "height": 980
        }
      },
      "source": [
        "# Initialize swarm\n",
        "options = {'c1': 0.3, 'c2': 0.5, 'w': 0.9}\n",
        "\n",
        "# Call instance of PSO\n",
        "optimizer = ps.single.GlobalBestPSO(n_particles=60, dimensions=dimensions, \n",
        "                                    options=options)\n",
        "\n",
        "# Perform optimization\n",
        "# This is highly memory intensive, need to tune n_particles and iters\n",
        "cost, pos = optimizer.optimize(f, iters=25)"
      ],
      "execution_count": 46,
      "outputs": [
        {
          "output_type": "stream",
          "text": [
            "2019-12-11 09:37:35,324 - pyswarms.single.global_best - INFO - Optimize for 25 iters with {'c1': 0.3, 'c2': 0.5, 'w': 0.9}\n",
            "\n",
            "pyswarms.single.global_best:   0%|          |0/25\u001b[A\n",
            "pyswarms.single.global_best:   0%|          |0/25, best_cost=20.7\u001b[A\n",
            "pyswarms.single.global_best:   4%|▍         |1/25, best_cost=20.7\u001b[A\n",
            "pyswarms.single.global_best:   4%|▍         |1/25, best_cost=20.7\u001b[A\n",
            "pyswarms.single.global_best:   8%|▊         |2/25, best_cost=20.7\u001b[A\n",
            "pyswarms.single.global_best:   8%|▊         |2/25, best_cost=20.7\u001b[A\n",
            "pyswarms.single.global_best:  12%|█▏        |3/25, best_cost=20.7\u001b[A\n",
            "pyswarms.single.global_best:  12%|█▏        |3/25, best_cost=20.7\u001b[A\n",
            "pyswarms.single.global_best:  16%|█▌        |4/25, best_cost=20.7\u001b[A\n",
            "pyswarms.single.global_best:  16%|█▌        |4/25, best_cost=20.7\u001b[A\n",
            "pyswarms.single.global_best:  20%|██        |5/25, best_cost=20.7\u001b[A\n",
            "pyswarms.single.global_best:  20%|██        |5/25, best_cost=20.7\u001b[A\n",
            "pyswarms.single.global_best:  24%|██▍       |6/25, best_cost=20.7\u001b[A\n",
            "pyswarms.single.global_best:  24%|██▍       |6/25, best_cost=20.7\u001b[A\n",
            "pyswarms.single.global_best:  28%|██▊       |7/25, best_cost=20.7\u001b[A\n",
            "pyswarms.single.global_best:  28%|██▊       |7/25, best_cost=20.6\u001b[A\n",
            "pyswarms.single.global_best:  32%|███▏      |8/25, best_cost=20.6\u001b[A\n",
            "pyswarms.single.global_best:  32%|███▏      |8/25, best_cost=9.81\u001b[A\n",
            "pyswarms.single.global_best:  36%|███▌      |9/25, best_cost=9.81\u001b[A\n",
            "pyswarms.single.global_best:  36%|███▌      |9/25, best_cost=9.52\u001b[A\n",
            "pyswarms.single.global_best:  40%|████      |10/25, best_cost=9.52\u001b[A\n",
            "pyswarms.single.global_best:  40%|████      |10/25, best_cost=9.44\u001b[A\n",
            "pyswarms.single.global_best:  44%|████▍     |11/25, best_cost=9.44\u001b[A\n",
            "pyswarms.single.global_best:  44%|████▍     |11/25, best_cost=9.41\u001b[A\n",
            "pyswarms.single.global_best:  48%|████▊     |12/25, best_cost=9.41\u001b[A\n",
            "pyswarms.single.global_best:  48%|████▊     |12/25, best_cost=9.41\u001b[A\n",
            "pyswarms.single.global_best:  52%|█████▏    |13/25, best_cost=9.41\u001b[A\n",
            "pyswarms.single.global_best:  52%|█████▏    |13/25, best_cost=9.41\u001b[A\n",
            "pyswarms.single.global_best:  56%|█████▌    |14/25, best_cost=9.41\u001b[A\n",
            "pyswarms.single.global_best:  56%|█████▌    |14/25, best_cost=9.41\u001b[A\n",
            "pyswarms.single.global_best:  60%|██████    |15/25, best_cost=9.41\u001b[A\n",
            "pyswarms.single.global_best:  60%|██████    |15/25, best_cost=9.41\u001b[A\n",
            "pyswarms.single.global_best:  64%|██████▍   |16/25, best_cost=9.41\u001b[A\n",
            "pyswarms.single.global_best:  64%|██████▍   |16/25, best_cost=9.41\u001b[A\n",
            "pyswarms.single.global_best:  68%|██████▊   |17/25, best_cost=9.41\u001b[A\n",
            "pyswarms.single.global_best:  68%|██████▊   |17/25, best_cost=9.39\u001b[A\n",
            "pyswarms.single.global_best:  72%|███████▏  |18/25, best_cost=9.39\u001b[A\n",
            "pyswarms.single.global_best:  72%|███████▏  |18/25, best_cost=9.36\u001b[A\n",
            "pyswarms.single.global_best:  76%|███████▌  |19/25, best_cost=9.36\u001b[A\n",
            "pyswarms.single.global_best:  76%|███████▌  |19/25, best_cost=9.33\u001b[A\n",
            "pyswarms.single.global_best:  80%|████████  |20/25, best_cost=9.33\u001b[A\n",
            "pyswarms.single.global_best:  80%|████████  |20/25, best_cost=9.28\u001b[A\n",
            "pyswarms.single.global_best:  84%|████████▍ |21/25, best_cost=9.28\u001b[A\n",
            "pyswarms.single.global_best:  84%|████████▍ |21/25, best_cost=9.28\u001b[A\n",
            "pyswarms.single.global_best:  88%|████████▊ |22/25, best_cost=9.28\u001b[A\n",
            "pyswarms.single.global_best:  88%|████████▊ |22/25, best_cost=9.28\u001b[A\n",
            "pyswarms.single.global_best:  92%|█████████▏|23/25, best_cost=9.28\u001b[A\n",
            "pyswarms.single.global_best:  92%|█████████▏|23/25, best_cost=9.28\u001b[A\n",
            "pyswarms.single.global_best:  96%|█████████▌|24/25, best_cost=9.28\u001b[A\n",
            "pyswarms.single.global_best:  96%|█████████▌|24/25, best_cost=9.28\u001b[A\n",
            "pyswarms.single.global_best: 100%|██████████|25/25, best_cost=9.28\u001b[A\n",
            "\u001b[A2019-12-11 09:38:47,785 - pyswarms.single.global_best - INFO - Optimization finished | best cost: 9.283199622581208, best pos: [-0.87932161 -0.25697907 -0.80216106 ...  0.19940551 -0.17604289\n",
            " -0.51776683]\n"
          ],
          "name": "stderr"
        }
      ]
    },
    {
      "cell_type": "code",
      "metadata": {
        "id": "q-IO8k1eycmf",
        "colab_type": "code",
        "colab": {
          "base_uri": "https://localhost:8080/",
          "height": 513
        },
        "outputId": "341bb0fc-8705-44f7-eeb3-a1fa2972d8cb"
      },
      "source": [
        "from pyswarms.utils.plotters import plot_cost_history\n",
        "import matplotlib.pyplot as plt\n",
        "\n",
        "# Obtain cost history from optimizer instance\n",
        "cost_history = optimizer.cost_history\n",
        "\n",
        "plot_cost_history(cost_history)\n",
        "plt.show()"
      ],
      "execution_count": 47,
      "outputs": [
        {
          "output_type": "display_data",
          "data": {
            "image/png": "[encoded data removed]",
            "text/plain": [
              "<Figure size 720x576 with 1 Axes>"
            ]
          },
          "metadata": {
            "tags": []
          }
        }
      ]
    },
    {
      "cell_type": "code",
      "metadata": {
        "id": "bkHsCnVkPylb",
        "colab_type": "code",
        "colab": {
          "base_uri": "https://localhost:8080/",
          "height": 34
        },
        "outputId": "fbebe444-3905-448a-a764-ea9b0af9248e"
      },
      "source": [
        "# accuracy\n",
        "from sklearn.metrics import accuracy_score\n",
        "\n",
        "accuracy_score(y_train, \n",
        "               predict(X_train_flat, pos))"
      ],
      "execution_count": 48,
      "outputs": [
        {
          "output_type": "execute_result",
          "data": {
            "text/plain": [
              "0.11236666666666667"
            ]
          },
          "metadata": {
            "tags": []
          },
          "execution_count": 48
        }
      ]
    },
    {
      "cell_type": "code",
      "metadata": {
        "id": "UH0gj6ifTV9x",
        "colab_type": "code",
        "colab": {
          "base_uri": "https://localhost:8080/",
          "height": 840
        },
        "outputId": "755d5db9-e4b8-42bd-a364-cc2a05569c09"
      },
      "source": [
        "# continue\n",
        "cost, pos = optimizer.optimize(f, iters=25)"
      ],
      "execution_count": 0,
      "outputs": [
        {
          "output_type": "stream",
          "text": [
            "2019-12-11 09:39:14,571 - pyswarms.single.global_best - INFO - Optimize for 25 iters with {'c1': 0.3, 'c2': 0.5, 'w': 0.9}\n",
            "\n",
            "pyswarms.single.global_best:   0%|          |0/25\u001b[A\n",
            "pyswarms.single.global_best:   0%|          |0/25, best_cost=9.25\u001b[A\n",
            "pyswarms.single.global_best:   4%|▍         |1/25, best_cost=9.25\u001b[A\n",
            "pyswarms.single.global_best:   4%|▍         |1/25, best_cost=9.25\u001b[A\n",
            "pyswarms.single.global_best:   8%|▊         |2/25, best_cost=9.25\u001b[A\n",
            "pyswarms.single.global_best:   8%|▊         |2/25, best_cost=9.25\u001b[A\n",
            "pyswarms.single.global_best:  12%|█▏        |3/25, best_cost=9.25\u001b[A\n",
            "pyswarms.single.global_best:  12%|█▏        |3/25, best_cost=9.25\u001b[A\n",
            "pyswarms.single.global_best:  16%|█▌        |4/25, best_cost=9.25\u001b[A\n",
            "pyswarms.single.global_best:  16%|█▌        |4/25, best_cost=9.25\u001b[A\n",
            "pyswarms.single.global_best:  20%|██        |5/25, best_cost=9.25\u001b[A\n",
            "pyswarms.single.global_best:  20%|██        |5/25, best_cost=9.25\u001b[A\n",
            "pyswarms.single.global_best:  24%|██▍       |6/25, best_cost=9.25\u001b[A\n",
            "pyswarms.single.global_best:  24%|██▍       |6/25, best_cost=9.25\u001b[A\n",
            "pyswarms.single.global_best:  28%|██▊       |7/25, best_cost=9.25\u001b[A\n",
            "pyswarms.single.global_best:  28%|██▊       |7/25, best_cost=9.25\u001b[A\n",
            "pyswarms.single.global_best:  32%|███▏      |8/25, best_cost=9.25\u001b[A\n",
            "pyswarms.single.global_best:  32%|███▏      |8/25, best_cost=9.25\u001b[A\n",
            "pyswarms.single.global_best:  36%|███▌      |9/25, best_cost=9.25\u001b[A\n",
            "pyswarms.single.global_best:  36%|███▌      |9/25, best_cost=9.25\u001b[A\n",
            "pyswarms.single.global_best:  40%|████      |10/25, best_cost=9.25\u001b[A\n",
            "pyswarms.single.global_best:  40%|████      |10/25, best_cost=9.25\u001b[A\n",
            "pyswarms.single.global_best:  44%|████▍     |11/25, best_cost=9.25\u001b[A\n",
            "pyswarms.single.global_best:  44%|████▍     |11/25, best_cost=9.24\u001b[A\n",
            "pyswarms.single.global_best:  48%|████▊     |12/25, best_cost=9.24\u001b[A\n",
            "pyswarms.single.global_best:  48%|████▊     |12/25, best_cost=9.24\u001b[A\n",
            "pyswarms.single.global_best:  52%|█████▏    |13/25, best_cost=9.24\u001b[A\n",
            "pyswarms.single.global_best:  52%|█████▏    |13/25, best_cost=9.22\u001b[A\n",
            "pyswarms.single.global_best:  56%|█████▌    |14/25, best_cost=9.22\u001b[A\n",
            "pyswarms.single.global_best:  56%|█████▌    |14/25, best_cost=9.22\u001b[A\n",
            "pyswarms.single.global_best:  60%|██████    |15/25, best_cost=9.22\u001b[A\n",
            "pyswarms.single.global_best:  60%|██████    |15/25, best_cost=9.22\u001b[A\n",
            "pyswarms.single.global_best:  64%|██████▍   |16/25, best_cost=9.22\u001b[A\n",
            "pyswarms.single.global_best:  64%|██████▍   |16/25, best_cost=9.22\u001b[A\n",
            "pyswarms.single.global_best:  68%|██████▊   |17/25, best_cost=9.22\u001b[A\n",
            "pyswarms.single.global_best:  68%|██████▊   |17/25, best_cost=9.22\u001b[A\n",
            "pyswarms.single.global_best:  72%|███████▏  |18/25, best_cost=9.22\u001b[A\n",
            "pyswarms.single.global_best:  72%|███████▏  |18/25, best_cost=9.22\u001b[A\n",
            "pyswarms.single.global_best:  76%|███████▌  |19/25, best_cost=9.22\u001b[A\n",
            "pyswarms.single.global_best:  76%|███████▌  |19/25, best_cost=9.22\u001b[A\n",
            "pyswarms.single.global_best:  80%|████████  |20/25, best_cost=9.22\u001b[A\n",
            "pyswarms.single.global_best:  80%|████████  |20/25, best_cost=9.22\u001b[A\n",
            "pyswarms.single.global_best:  84%|████████▍ |21/25, best_cost=9.22\u001b[A\n",
            "pyswarms.single.global_best:  84%|████████▍ |21/25, best_cost=9.22\u001b[A\n",
            "pyswarms.single.global_best:  88%|████████▊ |22/25, best_cost=9.22\u001b[A\n",
            "pyswarms.single.global_best:  88%|████████▊ |22/25, best_cost=9.21\u001b[A"
          ],
          "name": "stderr"
        }
      ]
    },
    {
      "cell_type": "code",
      "metadata": {
        "id": "PZJ9WOtbU6Qe",
        "colab_type": "code",
        "colab": {}
      },
      "source": [
        "plot_cost_history(cost_history)\n",
        "plt.show()"
      ],
      "execution_count": 0,
      "outputs": []
    },
    {
      "cell_type": "code",
      "metadata": {
        "id": "ehJw1j2LVHFb",
        "colab_type": "code",
        "colab": {}
      },
      "source": [
        ""
      ],
      "execution_count": 0,
      "outputs": []
    }
  ]
}