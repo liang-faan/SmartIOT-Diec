{
  "nbformat": 4,
  "nbformat_minor": 0,
  "metadata": {
    "colab": {
      "name": "pyswarms v tensorflow",
      "provenance": [],
      "collapsed_sections": [],
      "include_colab_link": true
    },
    "kernelspec": {
      "name": "python3",
      "display_name": "Python 3"
    }
  },
  "cells": [
    {
      "cell_type": "markdown",
      "metadata": {
        "id": "view-in-github",
        "colab_type": "text"
      },
      "source": [
        "<a href=\"https://colab.research.google.com/github/lisaong/diec/blob/master/day3/pyswarms_v_tensorflow.ipynb\" target=\"_parent\"><img src=\"https://colab.research.google.com/assets/colab-badge.svg\" alt=\"Open In Colab\"/></a>"
      ]
    },
    {
      "cell_type": "code",
      "metadata": {
        "id": "2sajCbs5ZHV3",
        "colab_type": "code",
        "colab": {
          "base_uri": "https://localhost:8080/",
          "height": 34
        },
        "outputId": "a67da94e-857c-48fb-ef0e-20ea8561ea1f"
      },
      "source": [
        "%tensorflow_version 2.x"
      ],
      "execution_count": 1,
      "outputs": [
        {
          "output_type": "stream",
          "text": [
            "TensorFlow 2.x selected.\n"
          ],
          "name": "stdout"
        }
      ]
    },
    {
      "cell_type": "code",
      "metadata": {
        "id": "fCNQItiKZOzZ",
        "colab_type": "code",
        "colab": {
          "base_uri": "https://localhost:8080/",
          "height": 328
        },
        "outputId": "d4c71fa4-f72c-488d-b539-0252e03ff3ca"
      },
      "source": [
        "!pip install pyswarms"
      ],
      "execution_count": 48,
      "outputs": [
        {
          "output_type": "stream",
          "text": [
            "Collecting pyswarms\n",
            "\u001b[?25l  Downloading https://files.pythonhosted.org/packages/0b/6f/42605c4e111a08a8fbaba953d0783c56ad2913ffa5959bdac53f649502a2/pyswarms-1.1.0-py2.py3-none-any.whl (96kB)\n",
            "\r\u001b[K     |███▍                            | 10kB 20.0MB/s eta 0:00:01\r\u001b[K     |██████▉                         | 20kB 1.8MB/s eta 0:00:01\r\u001b[K     |██████████▎                     | 30kB 2.6MB/s eta 0:00:01\r\u001b[K     |█████████████▋                  | 40kB 1.7MB/s eta 0:00:01\r\u001b[K     |█████████████████               | 51kB 2.1MB/s eta 0:00:01\r\u001b[K     |████████████████████▌           | 61kB 2.5MB/s eta 0:00:01\r\u001b[K     |███████████████████████▉        | 71kB 2.9MB/s eta 0:00:01\r\u001b[K     |███████████████████████████▎    | 81kB 3.3MB/s eta 0:00:01\r\u001b[K     |██████████████████████████████▊ | 92kB 3.7MB/s eta 0:00:01\r\u001b[K     |████████████████████████████████| 102kB 3.2MB/s \n",
            "\u001b[?25hRequirement already satisfied: tqdm in /usr/local/lib/python3.6/dist-packages (from pyswarms) (4.28.1)\n",
            "Requirement already satisfied: numpy in /tensorflow-2.0.0/python3.6 (from pyswarms) (1.17.4)\n",
            "Requirement already satisfied: future in /usr/local/lib/python3.6/dist-packages (from pyswarms) (0.16.0)\n",
            "Requirement already satisfied: scipy in /usr/local/lib/python3.6/dist-packages (from pyswarms) (1.3.3)\n",
            "Requirement already satisfied: matplotlib>=1.3.1 in /usr/local/lib/python3.6/dist-packages (from pyswarms) (3.1.2)\n",
            "Requirement already satisfied: attrs in /usr/local/lib/python3.6/dist-packages (from pyswarms) (19.3.0)\n",
            "Requirement already satisfied: cycler>=0.10 in /usr/local/lib/python3.6/dist-packages (from matplotlib>=1.3.1->pyswarms) (0.10.0)\n",
            "Requirement already satisfied: python-dateutil>=2.1 in /usr/local/lib/python3.6/dist-packages (from matplotlib>=1.3.1->pyswarms) (2.6.1)\n",
            "Requirement already satisfied: pyparsing!=2.0.4,!=2.1.2,!=2.1.6,>=2.0.1 in /usr/local/lib/python3.6/dist-packages (from matplotlib>=1.3.1->pyswarms) (2.4.5)\n",
            "Requirement already satisfied: kiwisolver>=1.0.1 in /usr/local/lib/python3.6/dist-packages (from matplotlib>=1.3.1->pyswarms) (1.1.0)\n",
            "Requirement already satisfied: six in /tensorflow-2.0.0/python3.6 (from cycler>=0.10->matplotlib>=1.3.1->pyswarms) (1.13.0)\n",
            "Requirement already satisfied: setuptools in /tensorflow-2.0.0/python3.6 (from kiwisolver>=1.0.1->matplotlib>=1.3.1->pyswarms) (42.0.2)\n",
            "Installing collected packages: pyswarms\n",
            "Successfully installed pyswarms-1.1.0\n"
          ],
          "name": "stdout"
        }
      ]
    },
    {
      "cell_type": "code",
      "metadata": {
        "id": "bmM8kq73ZY5N",
        "colab_type": "code",
        "colab": {}
      },
      "source": [
        "import tensorflow as tf\n",
        "import pyswarms as ps"
      ],
      "execution_count": 0,
      "outputs": []
    },
    {
      "cell_type": "code",
      "metadata": {
        "id": "vkniviAJZjmP",
        "colab_type": "code",
        "colab": {
          "base_uri": "https://localhost:8080/",
          "height": 51
        },
        "outputId": "ac067023-354b-4288-e237-c39e6a92afdc"
      },
      "source": [
        "# load dataset\n",
        "from tensorflow.keras.datasets.mnist import load_data\n",
        "\n",
        "(X_train, y_train), (X_test, y_test) = load_data()"
      ],
      "execution_count": 9,
      "outputs": [
        {
          "output_type": "stream",
          "text": [
            "Downloading data from https://storage.googleapis.com/tensorflow/tf-keras-datasets/mnist.npz\n",
            "11493376/11490434 [==============================] - 0s 0us/step\n"
          ],
          "name": "stdout"
        }
      ]
    },
    {
      "cell_type": "code",
      "metadata": {
        "id": "7VjiXCZsb2FF",
        "colab_type": "code",
        "colab": {}
      },
      "source": [
        "# scale to enable convergence\n",
        "X_train_flat = X_train.reshape(X_train.shape[0], -1) / 255\n",
        "X_test_flat = X_test.reshape(X_test.shape[0], -1) / 255"
      ],
      "execution_count": 0,
      "outputs": []
    },
    {
      "cell_type": "code",
      "metadata": {
        "id": "h4g70mh5cjLR",
        "colab_type": "code",
        "colab": {}
      },
      "source": [
        "y_train_cat = tf.keras.utils.to_categorical(y_train)\n",
        "y_test_cat = tf.keras.utils.to_categorical(y_test)"
      ],
      "execution_count": 0,
      "outputs": []
    },
    {
      "cell_type": "code",
      "metadata": {
        "id": "i9CniN-ZaSDI",
        "colab_type": "code",
        "colab": {}
      },
      "source": [
        "# https://pyswarms.readthedocs.io/en/latest/examples/usecases/train_neural_network.html\n",
        "# TODO"
      ],
      "execution_count": 0,
      "outputs": []
    },
    {
      "cell_type": "code",
      "metadata": {
        "id": "v4_RemPSaj45",
        "colab_type": "code",
        "colab": {
          "base_uri": "https://localhost:8080/",
          "height": 257
        },
        "outputId": "b8c869a5-34da-4384-d5ba-6fc9c4153f00"
      },
      "source": [
        "from tensorflow.keras.models import Sequential\n",
        "from tensorflow.keras.layers import Dense\n",
        "\n",
        "model = Sequential()\n",
        "model.add(Dense(512, input_shape=(X_train_flat.shape[1],), activation='relu'))\n",
        "model.add(Dense(128, activation='relu'))\n",
        "model.add(Dense(y_train_cat.shape[1], activation='softmax'))\n",
        "model.summary()"
      ],
      "execution_count": 69,
      "outputs": [
        {
          "output_type": "stream",
          "text": [
            "Model: \"sequential_4\"\n",
            "_________________________________________________________________\n",
            "Layer (type)                 Output Shape              Param #   \n",
            "=================================================================\n",
            "dense_6 (Dense)              (None, 512)               401920    \n",
            "_________________________________________________________________\n",
            "dense_7 (Dense)              (None, 128)               65664     \n",
            "_________________________________________________________________\n",
            "dense_8 (Dense)              (None, 10)                1290      \n",
            "=================================================================\n",
            "Total params: 468,874\n",
            "Trainable params: 468,874\n",
            "Non-trainable params: 0\n",
            "_________________________________________________________________\n"
          ],
          "name": "stdout"
        }
      ]
    },
    {
      "cell_type": "code",
      "metadata": {
        "id": "H-J0t8KRdfP0",
        "colab_type": "code",
        "colab": {}
      },
      "source": [
        "from tensorflow.keras.callbacks import TensorBoard"
      ],
      "execution_count": 0,
      "outputs": []
    },
    {
      "cell_type": "code",
      "metadata": {
        "id": "MR3IKauzddtK",
        "colab_type": "code",
        "colab": {
          "base_uri": "https://localhost:8080/",
          "height": 68
        },
        "outputId": "6a6247b3-6f85-4c10-e5c2-360d0d86c090"
      },
      "source": [
        "%load_ext tensorboard\n",
        "%tensorboard --logdir logs2"
      ],
      "execution_count": 71,
      "outputs": [
        {
          "output_type": "stream",
          "text": [
            "The tensorboard extension is already loaded. To reload it, use:\n",
            "  %reload_ext tensorboard\n"
          ],
          "name": "stdout"
        },
        {
          "output_type": "display_data",
          "data": {
            "text/plain": [
              "Reusing TensorBoard on port 6006 (pid 869), started 1:01:30 ago. (Use '!kill 869' to kill it.)"
            ]
          },
          "metadata": {
            "tags": []
          }
        },
        {
          "output_type": "display_data",
          "data": {
            "text/html": [
              "\n",
              "    <div id=\"root\"></div>\n",
              "    <script>\n",
              "      (function() {\n",
              "        window.TENSORBOARD_ENV = window.TENSORBOARD_ENV || {};\n",
              "        window.TENSORBOARD_ENV[\"IN_COLAB\"] = true;\n",
              "        document.querySelector(\"base\").href = \"https://localhost:6006\";\n",
              "        function fixUpTensorboard(root) {\n",
              "          const tftb = root.querySelector(\"tf-tensorboard\");\n",
              "          // Disable the fragment manipulation behavior in Colab. Not\n",
              "          // only is the behavior not useful (as the iframe's location\n",
              "          // is not visible to the user), it causes TensorBoard's usage\n",
              "          // of `window.replace` to navigate away from the page and to\n",
              "          // the `localhost:<port>` URL specified by the base URI, which\n",
              "          // in turn causes the frame to (likely) crash.\n",
              "          tftb.removeAttribute(\"use-hash\");\n",
              "        }\n",
              "        function executeAllScripts(root) {\n",
              "          // When `script` elements are inserted into the DOM by\n",
              "          // assigning to an element's `innerHTML`, the scripts are not\n",
              "          // executed. Thus, we manually re-insert these scripts so that\n",
              "          // TensorBoard can initialize itself.\n",
              "          for (const script of root.querySelectorAll(\"script\")) {\n",
              "            const newScript = document.createElement(\"script\");\n",
              "            newScript.type = script.type;\n",
              "            newScript.textContent = script.textContent;\n",
              "            root.appendChild(newScript);\n",
              "            script.remove();\n",
              "          }\n",
              "        }\n",
              "        function setHeight(root, height) {\n",
              "          // We set the height dynamically after the TensorBoard UI has\n",
              "          // been initialized. This avoids an intermediate state in\n",
              "          // which the container plus the UI become taller than the\n",
              "          // final width and cause the Colab output frame to be\n",
              "          // permanently resized, eventually leading to an empty\n",
              "          // vertical gap below the TensorBoard UI. It's not clear\n",
              "          // exactly what causes this problematic intermediate state,\n",
              "          // but setting the height late seems to fix it.\n",
              "          root.style.height = `${height}px`;\n",
              "        }\n",
              "        const root = document.getElementById(\"root\");\n",
              "        fetch(\".\")\n",
              "          .then((x) => x.text())\n",
              "          .then((html) => void (root.innerHTML = html))\n",
              "          .then(() => fixUpTensorboard(root))\n",
              "          .then(() => executeAllScripts(root))\n",
              "          .then(() => setHeight(root, 800));\n",
              "      })();\n",
              "    </script>\n",
              "  "
            ],
            "text/plain": [
              "<IPython.core.display.HTML object>"
            ]
          },
          "metadata": {
            "tags": []
          }
        }
      ]
    },
    {
      "cell_type": "code",
      "metadata": {
        "id": "wtIS4ZmXcVEz",
        "colab_type": "code",
        "colab": {
          "base_uri": "https://localhost:8080/",
          "height": 223
        },
        "outputId": "64eb6dba-4314-4c0d-8b54-c7b319b005c2"
      },
      "source": [
        "import datetime as datetime\n",
        "import os\n",
        "logdir = os.path.join('logs2', datetime.datetime.now().strftime(\"%Y%m%d-%H%M%S\"))\n",
        "\n",
        "tb = TensorBoard(log_dir=logdir)\n",
        "model.compile(optimizer='rmsprop', loss='categorical_crossentropy', metrics=['accuracy'])\n",
        "\n",
        "N = 1000\n",
        "\n",
        "# batch_size 1 to simplify pyswarm comparison\n",
        "model.fit(X_train_flat[:N], y_train_cat[:N], batch_size=1, epochs=5,\n",
        "          callbacks=[tb])"
      ],
      "execution_count": 72,
      "outputs": [
        {
          "output_type": "stream",
          "text": [
            "Train on 1000 samples\n",
            "Epoch 1/5\n",
            "1000/1000 [==============================] - 6s 6ms/sample - loss: 0.8742 - accuracy: 0.7390\n",
            "Epoch 2/5\n",
            "1000/1000 [==============================] - 6s 6ms/sample - loss: 0.4525 - accuracy: 0.8990\n",
            "Epoch 3/5\n",
            "1000/1000 [==============================] - 6s 6ms/sample - loss: 0.2735 - accuracy: 0.9330\n",
            "Epoch 4/5\n",
            "1000/1000 [==============================] - 5s 5ms/sample - loss: 0.2048 - accuracy: 0.9590\n",
            "Epoch 5/5\n",
            "1000/1000 [==============================] - 6s 6ms/sample - loss: 0.1648 - accuracy: 0.9640\n"
          ],
          "name": "stdout"
        },
        {
          "output_type": "execute_result",
          "data": {
            "text/plain": [
              "<tensorflow.python.keras.callbacks.History at 0x7f24fa76a5f8>"
            ]
          },
          "metadata": {
            "tags": []
          },
          "execution_count": 72
        }
      ]
    },
    {
      "cell_type": "code",
      "metadata": {
        "id": "BVNu8aoUc9V2",
        "colab_type": "code",
        "colab": {
          "base_uri": "https://localhost:8080/",
          "height": 34
        },
        "outputId": "312f9e94-b89e-40f2-ac21-304c22a88e37"
      },
      "source": [
        "# pyswarm\n",
        "\n",
        "# Neural network architecture\n",
        "# =================================================================\n",
        "# dense_3 (Dense)              (None, 512)               401920    \n",
        "# _________________________________________________________________\n",
        "# dense_4 (Dense)              (None, 128)               65664     \n",
        "# _________________________________________________________________\n",
        "# dense_5 (Dense)              (None, 10)                1290      \n",
        "# =================================================================\n",
        "\n",
        "n_inputs = 784 # W1: 784 x 512, b1: 512\n",
        "n_hidden1 = 512 # W2: 512 x 128, b2: 128\n",
        "n_hidden2 = 128 # W3: 128 x 10, b3: 10\n",
        "n_classes = 10\n",
        "\n",
        "chunks = [\n",
        "  n_inputs*n_hidden1,\n",
        "  n_hidden1,\n",
        "  n_hidden1*n_hidden2,\n",
        "  n_hidden2,\n",
        "  n_hidden2*n_classes,\n",
        "  n_classes\n",
        "]\n",
        "\n",
        "import numpy as np\n",
        "dimensions = np.sum(np.array(chunks))\n",
        "print(dimensions)"
      ],
      "execution_count": 73,
      "outputs": [
        {
          "output_type": "stream",
          "text": [
            "468874\n"
          ],
          "name": "stdout"
        }
      ]
    },
    {
      "cell_type": "code",
      "metadata": {
        "id": "BWmbJFKSnxLX",
        "colab_type": "code",
        "colab": {}
      },
      "source": [
        "def stable_softmax(x):\n",
        "    z = x - np.max(x)\n",
        "    numerator = np.exp(z)\n",
        "    denominator = np.sum(numerator)\n",
        "    return numerator/denominator\n",
        "\n",
        "def cross_entropy(predictions, targets, epsilon=1e-12):\n",
        "    \"\"\"\n",
        "    Computes cross entropy between targets (encoded as one-hot vectors)\n",
        "    and predictions. \n",
        "    Input: predictions (N, k) ndarray\n",
        "           targets (N, k) ndarray        \n",
        "    Returns: scalar\n",
        "    \"\"\"\n",
        "    predictions = np.clip(predictions, epsilon, 1. - epsilon)\n",
        "    N = predictions.shape[0]\n",
        "    ce = -np.sum(targets*np.log(predictions+1e-9))/N\n",
        "    return ce\n",
        "\n",
        "def relu(x):\n",
        "  return np.maximum(x, 0)\n",
        "\n",
        "def forward_prop(params):\n",
        "    \"\"\"Forward propagation as objective function\n",
        "\n",
        "    This computes for the forward propagation of the neural network, as\n",
        "    well as the loss. It receives a set of parameters that must be\n",
        "    rolled-back into the corresponding weights and biases.\n",
        "\n",
        "    Inputs\n",
        "    ------\n",
        "    params: np.ndarray\n",
        "        The dimensions should include an unrolled version of the\n",
        "        weights and biases.\n",
        "\n",
        "    Returns\n",
        "    -------\n",
        "    float\n",
        "        The computed negative log-likelihood loss given the parameters\n",
        "    \"\"\"\n",
        "    # Roll-back the weights and biases (can probably be a loop)\n",
        "    offset = 0\n",
        "    W1 = params[offset:offset+chunks[0]].reshape((n_inputs, n_hidden1))\n",
        "    offset = offset + chunks[0]\n",
        "    b1 = params[offset:offset+chunks[1]].reshape((n_hidden1,))\n",
        "    offset = offset + chunks[1]\n",
        "    W2 = params[offset:offset+chunks[2]].reshape((n_hidden1, n_hidden2))\n",
        "    offset = offset + chunks[2]\n",
        "    b2 = params[offset:offset+chunks[3]].reshape((n_hidden2,))\n",
        "    offset = offset + chunks[3]\n",
        "    W3 = params[offset:offset+chunks[4]].reshape((n_hidden2, n_classes))\n",
        "    offset = offset + chunks[4]\n",
        "    b3 = params[offset:offset+chunks[5]].reshape((n_classes,))\n",
        "\n",
        "    # Perform forward propagation\n",
        "    X = X_train_flat[:N]\n",
        "    y = y_train_cat[:N]\n",
        "\n",
        "    z1 = X.dot(W1) + b1   # Pre-activation in Layer 1\n",
        "    a1 = relu(z1)         # Activation in Layer 1\n",
        "    z2 = a1.dot(W2) + b2  # Pre-activation in Layer 2\n",
        "    a2 = relu(z2)         # Activation in Layer 2\n",
        "    z3 = a2.dot(W3) + b3  # Pre-activation in Layer 3\n",
        "    logits = z3           # Logits for Layer 3\n",
        "\n",
        "    # Compute for the softmax of the logits\n",
        "    #exp_scores = np.exp(logits)\n",
        "    #probs = exp_scores / np.sum(exp_scores, axis=1, keepdims=True)\n",
        "    probs = stable_softmax(logits)\n",
        "\n",
        "    # Compute for the negative log likelihood\n",
        "    #correct_logprobs = -np.log(probs[range(N), y])\n",
        "    #loss = np.sum(correct_logprobs) / N\n",
        "    loss = cross_entropy(y, probs)\n",
        "\n",
        "    return loss\n",
        "\n",
        "def f(x):\n",
        "    \"\"\"Higher-level method to do forward_prop in the\n",
        "    whole swarm.\n",
        "\n",
        "    Inputs\n",
        "    ------\n",
        "    x: numpy.ndarray of shape (n_particles, dimensions)\n",
        "        The swarm that will perform the search\n",
        "\n",
        "    Returns\n",
        "    -------\n",
        "    numpy.ndarray of shape (n_particles, )\n",
        "        The computed loss for each particle\n",
        "    \"\"\"\n",
        "    n_particles = x.shape[0]\n",
        "    j = [forward_prop(x[i]) for i in range(n_particles)]\n",
        "    return np.array(j)"
      ],
      "execution_count": 0,
      "outputs": []
    },
    {
      "cell_type": "code",
      "metadata": {
        "id": "T159V61wnzL6",
        "colab_type": "code",
        "colab": {
          "base_uri": "https://localhost:8080/",
          "height": 1000
        },
        "outputId": "16e99ad7-d6f9-43ec-feef-f6bcf544b1e3"
      },
      "source": [
        "# Initialize swarm\n",
        "options = {'c1': 0.5, 'c2': 0.3, 'w':0.9}\n",
        "\n",
        "# Call instance of PSO\n",
        "optimizer = ps.single.GlobalBestPSO(n_particles=100, dimensions=dimensions, \n",
        "                                    options=options)\n",
        "\n",
        "# Perform optimization\n",
        "cost, pos = optimizer.optimize(f, iters=1000)"
      ],
      "execution_count": 0,
      "outputs": [
        {
          "output_type": "stream",
          "text": [
            "2019-12-11 07:49:16,713 - pyswarms.single.global_best - INFO - Optimize for 1000 iters with {'c1': 0.5, 'c2': 0.3, 'w': 0.9}\n",
            "\n",
            "\n",
            "\n",
            "\n",
            "\n",
            "\n",
            "\n",
            "\n",
            "\n",
            "\n",
            "\n",
            "\n",
            "\n",
            "\n",
            "pyswarms.single.global_best:   0%|          |0/1000\u001b[A\u001b[A\u001b[A\u001b[A\u001b[A\u001b[A\u001b[A\u001b[A\u001b[A\u001b[A\u001b[A\u001b[A\u001b[A\u001b[A\n",
            "\n",
            "\n",
            "\n",
            "\n",
            "\n",
            "\n",
            "\n",
            "\n",
            "\n",
            "\n",
            "\n",
            "\n",
            "\n",
            "pyswarms.single.global_best:   0%|          |0/1000, best_cost=-\u001b[A\u001b[A\u001b[A\u001b[A\u001b[A\u001b[A\u001b[A\u001b[A\u001b[A\u001b[A\u001b[A\u001b[A\u001b[A\u001b[A\n",
            "\n",
            "\n",
            "\n",
            "\n",
            "\n",
            "\n",
            "\n",
            "\n",
            "\n",
            "\n",
            "\n",
            "\n",
            "\n",
            "pyswarms.single.global_best:   0%|          |1/1000, best_cost=-\u001b[A\u001b[A\u001b[A\u001b[A\u001b[A\u001b[A\u001b[A\u001b[A\u001b[A\u001b[A\u001b[A\u001b[A\u001b[A\u001b[A\n",
            "\n",
            "\n",
            "\n",
            "\n",
            "\n",
            "\n",
            "\n",
            "\n",
            "\n",
            "\n",
            "\n",
            "\n",
            "\n",
            "pyswarms.single.global_best:   0%|          |1/1000, best_cost=-\u001b[A\u001b[A\u001b[A\u001b[A\u001b[A\u001b[A\u001b[A\u001b[A\u001b[A\u001b[A\u001b[A\u001b[A\u001b[A\u001b[A\n",
            "\n",
            "\n",
            "\n",
            "\n",
            "\n",
            "\n",
            "\n",
            "\n",
            "\n",
            "\n",
            "\n",
            "\n",
            "\n",
            "pyswarms.single.global_best:   0%|          |2/1000, best_cost=-\u001b[A\u001b[A\u001b[A\u001b[A\u001b[A\u001b[A\u001b[A\u001b[A\u001b[A\u001b[A\u001b[A\u001b[A\u001b[A\u001b[A\n",
            "\n",
            "\n",
            "\n",
            "\n",
            "\n",
            "\n",
            "\n",
            "\n",
            "\n",
            "\n",
            "\n",
            "\n",
            "\n",
            "pyswarms.single.global_best:   0%|          |2/1000, best_cost=-\u001b[A\u001b[A\u001b[A\u001b[A\u001b[A\u001b[A\u001b[A\u001b[A\u001b[A\u001b[A\u001b[A\u001b[A\u001b[A\u001b[A\n",
            "\n",
            "\n",
            "\n",
            "\n",
            "\n",
            "\n",
            "\n",
            "\n",
            "\n",
            "\n",
            "\n",
            "\n",
            "\n",
            "pyswarms.single.global_best:   0%|          |3/1000, best_cost=-\u001b[A\u001b[A\u001b[A\u001b[A\u001b[A\u001b[A\u001b[A\u001b[A\u001b[A\u001b[A\u001b[A\u001b[A\u001b[A\u001b[A\n",
            "\n",
            "\n",
            "\n",
            "\n",
            "\n",
            "\n",
            "\n",
            "\n",
            "\n",
            "\n",
            "\n",
            "\n",
            "\n",
            "pyswarms.single.global_best:   0%|          |3/1000, best_cost=-\u001b[A\u001b[A\u001b[A\u001b[A\u001b[A\u001b[A\u001b[A\u001b[A\u001b[A\u001b[A\u001b[A\u001b[A\u001b[A\u001b[A\n",
            "\n",
            "\n",
            "\n",
            "\n",
            "\n",
            "\n",
            "\n",
            "\n",
            "\n",
            "\n",
            "\n",
            "\n",
            "\n",
            "pyswarms.single.global_best:   0%|          |4/1000, best_cost=-\u001b[A\u001b[A\u001b[A\u001b[A\u001b[A\u001b[A\u001b[A\u001b[A\u001b[A\u001b[A\u001b[A\u001b[A\u001b[A\u001b[A\n",
            "\n",
            "\n",
            "\n",
            "\n",
            "\n",
            "\n",
            "\n",
            "\n",
            "\n",
            "\n",
            "\n",
            "\n",
            "\n",
            "pyswarms.single.global_best:   0%|          |4/1000, best_cost=-\u001b[A\u001b[A\u001b[A\u001b[A\u001b[A\u001b[A\u001b[A\u001b[A\u001b[A\u001b[A\u001b[A\u001b[A\u001b[A\u001b[A"
          ],
          "name": "stderr"
        }
      ]
    },
    {
      "cell_type": "code",
      "metadata": {
        "id": "q-IO8k1eycmf",
        "colab_type": "code",
        "colab": {}
      },
      "source": [
        ""
      ],
      "execution_count": 0,
      "outputs": []
    }
  ]
}