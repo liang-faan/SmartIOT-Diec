{
  "nbformat": 4,
  "nbformat_minor": 0,
  "metadata": {
    "colab": {
      "name": "edge_time_series_classification.ipynb",
      "provenance": [],
      "toc_visible": true,
      "include_colab_link": true
    },
    "kernelspec": {
      "name": "python3",
      "display_name": "Python 3"
    },
    "accelerator": "GPU"
  },
  "cells": [
    {
      "cell_type": "markdown",
      "metadata": {
        "id": "view-in-github",
        "colab_type": "text"
      },
      "source": [
        "<a href=\"https://colab.research.google.com/github/lisaong/diec/blob/master/day3/edge_time_series_classification.ipynb\" target=\"_parent\"><img src=\"https://colab.research.google.com/assets/colab-badge.svg\" alt=\"Open In Colab\"/></a>"
      ]
    },
    {
      "cell_type": "markdown",
      "metadata": {
        "id": "3_4tTEupk1eV",
        "colab_type": "text"
      },
      "source": [
        "\n",
        "# Edge Device Model Deployment\n",
        "\n",
        "In this notebook, we will train a deep learning model and deploy it to the edge.\n",
        "\n",
        "1. Train model using Keras\n",
        "2. Convert to compressed floating point version using Tensorflow Lite\n",
        "3. Deploy on Raspberry Pi\n",
        "\n",
        "We will use this dataset, which is gathered from a smart factory in Germany: https://www.kaggle.com/inIT-OWL/versatileproductionsystem\n",
        "\n"
      ]
    },
    {
      "cell_type": "code",
      "metadata": {
        "id": "iQsJxbFhGkwC",
        "colab_type": "code",
        "colab": {}
      },
      "source": [
        "%tensorflow_version 2.x"
      ],
      "execution_count": 0,
      "outputs": []
    },
    {
      "cell_type": "code",
      "metadata": {
        "id": "smHIl430lswe",
        "colab_type": "code",
        "colab": {}
      },
      "source": [
        "import pandas as pd\n",
        "import numpy as np\n",
        "import pickle\n",
        "import matplotlib.pyplot as plt\n",
        "import seaborn as sns\n",
        "\n",
        "from sklearn.feature_selection import VarianceThreshold\n",
        "from sklearn.preprocessing import MinMaxScaler\n",
        "from sklearn.model_selection import train_test_split\n",
        "from sklearn.metrics import classification_report, confusion_matrix\n",
        "\n",
        "import tensorflow as tf\n",
        "from tensorflow.keras.models import Sequential, load_model\n",
        "from tensorflow.keras.layers import Dense, Conv1D, Flatten\n",
        "from tensorflow.keras.callbacks import ModelCheckpoint\n",
        "\n",
        "sns.set(style='whitegrid')\n",
        "%matplotlib inline"
      ],
      "execution_count": 0,
      "outputs": []
    },
    {
      "cell_type": "markdown",
      "metadata": {
        "id": "l9g7zOtylkXH",
        "colab_type": "text"
      },
      "source": [
        "## Dataset\n",
        "\n",
        "Load the dataset from our github repository."
      ]
    },
    {
      "cell_type": "code",
      "metadata": {
        "id": "G9TTNMJZlwVL",
        "colab_type": "code",
        "outputId": "be11eeb8-5e24-4fcc-a901-9fde28012128",
        "colab": {
          "base_uri": "https://localhost:8080/",
          "height": 68
        }
      },
      "source": [
        "!curl https://raw.githubusercontent.com/lisaong/diec/master/data/versatileproductionsystem.zip --output data.zip"
      ],
      "execution_count": 44,
      "outputs": [
        {
          "output_type": "stream",
          "text": [
            "  % Total    % Received % Xferd  Average Speed   Time    Time     Time  Current\n",
            "                                 Dload  Upload   Total   Spent    Left  Speed\n",
            "\r  0     0    0     0    0     0      0      0 --:--:-- --:--:-- --:--:--     0\r  0     0    0     0    0     0      0      0 --:--:-- --:--:-- --:--:--     0\r100  397k  100  397k    0     0  3059k      0 --:--:-- --:--:-- --:--:-- 3036k\n"
          ],
          "name": "stdout"
        }
      ]
    },
    {
      "cell_type": "code",
      "metadata": {
        "id": "x3yvFuQRl9HY",
        "colab_type": "code",
        "outputId": "525a0578-8eeb-4547-f36a-4c5e4a107b21",
        "colab": {
          "base_uri": "https://localhost:8080/",
          "height": 188
        }
      },
      "source": [
        "!unzip -o data.zip"
      ],
      "execution_count": 45,
      "outputs": [
        {
          "output_type": "stream",
          "text": [
            "Archive:  data.zip\n",
            "  inflating: Filling_CapScrewer.module.csv  \n",
            "  inflating: Filling_ALL.module.csv  \n",
            "  inflating: Dosingmodule.csv        \n",
            "  inflating: Filling_CornPortioning.module.csv  \n",
            "  inflating: Filling_Pump.module.csv  \n",
            "  inflating: Deliverymodule.csv      \n",
            "  inflating: Filling_CapGrabber.module.csv  \n",
            "  inflating: Production.csv          \n",
            "  inflating: Storagemodule.csv       \n"
          ],
          "name": "stdout"
        }
      ]
    },
    {
      "cell_type": "code",
      "metadata": {
        "id": "5W1mQD8mmGZ_",
        "colab_type": "code",
        "outputId": "ffd00604-5d2b-42d0-fcd7-d52ac81e7892",
        "colab": {
          "base_uri": "https://localhost:8080/",
          "height": 283
        }
      },
      "source": [
        "# read one of the data files\n",
        "df = pd.read_csv('./Filling_ALL.module.csv', index_col=0)\n",
        "df.head()"
      ],
      "execution_count": 46,
      "outputs": [
        {
          "output_type": "execute_result",
          "data": {
            "text/html": [
              "<div>\n",
              "<style scoped>\n",
              "    .dataframe tbody tr th:only-of-type {\n",
              "        vertical-align: middle;\n",
              "    }\n",
              "\n",
              "    .dataframe tbody tr th {\n",
              "        vertical-align: top;\n",
              "    }\n",
              "\n",
              "    .dataframe thead th {\n",
              "        text-align: right;\n",
              "    }\n",
              "</style>\n",
              "<table border=\"1\" class=\"dataframe\">\n",
              "  <thead>\n",
              "    <tr style=\"text-align: right;\">\n",
              "      <th></th>\n",
              "      <th>I_BottleAtAirpipe</th>\n",
              "      <th>I_BottleClampClose</th>\n",
              "      <th>I_BottleClampOpen</th>\n",
              "      <th>I_BottleGateClosed</th>\n",
              "      <th>I_BottleReserveGateClosed</th>\n",
              "      <th>I_BottlesAvailable</th>\n",
              "      <th>I_BottleSlot1</th>\n",
              "      <th>I_BottleSlot2_H2O</th>\n",
              "      <th>I_BottleSlot3_Corn</th>\n",
              "      <th>I_BottleSlot5_CapOn</th>\n",
              "      <th>I_BottleSlot6_CapScrewer</th>\n",
              "      <th>I_BottleSlot8_Output</th>\n",
              "      <th>I_BottlesReserveAvailable</th>\n",
              "      <th>I_BottleStorageFull</th>\n",
              "      <th>I_CapGrabberDown</th>\n",
              "      <th>I_CapGrabberUp</th>\n",
              "      <th>I_CapOnConveyor</th>\n",
              "      <th>I_CapScrewer_Down</th>\n",
              "      <th>I_CapScrewer_Up</th>\n",
              "      <th>I_CapScrewerClosePos</th>\n",
              "      <th>I_CapScrewerGrabClosed</th>\n",
              "      <th>I_CapScrewerOpenPos</th>\n",
              "      <th>I_CornTankFull</th>\n",
              "      <th>I_LinAxisCapInGrabber</th>\n",
              "      <th>I_LinAxisDown</th>\n",
              "      <th>I_LinAxisEmptyGrabber</th>\n",
              "      <th>I_LinAxisUp</th>\n",
              "      <th>I_NoCapOnConveyor</th>\n",
              "      <th>I_Portioning</th>\n",
              "      <th>I_Pump_Down</th>\n",
              "      <th>I_Pump_Up</th>\n",
              "      <th>I_RotaryTablePosReached</th>\n",
              "      <th>I_UltrasonicCorn</th>\n",
              "      <th>I_UltrasonicCorn_Distance</th>\n",
              "      <th>I_UltrasonicH2O</th>\n",
              "      <th>I_UltrasonicH2O_Distance</th>\n",
              "      <th>I_WaterTankMinFull</th>\n",
              "      <th>I_WaterTankNotFull</th>\n",
              "      <th>O_ActivateAirpipe</th>\n",
              "      <th>O_BottleClampClose</th>\n",
              "      <th>...</th>\n",
              "      <th>O_CloseCap</th>\n",
              "      <th>O_ConveyorCapsEnable</th>\n",
              "      <th>O_ConveyorCapsForward</th>\n",
              "      <th>O_ConveyorModuleIn</th>\n",
              "      <th>O_ConveyorModuleOut</th>\n",
              "      <th>O_GateBottleClose</th>\n",
              "      <th>O_GateReserveClose</th>\n",
              "      <th>O_LinAxisUpDown</th>\n",
              "      <th>O_PortionerForward</th>\n",
              "      <th>O_PortionerReverse</th>\n",
              "      <th>O_PortionerSlow</th>\n",
              "      <th>O_PumpUpDown</th>\n",
              "      <th>O_RotaryTable</th>\n",
              "      <th>O_ValvePumpCloseOpen</th>\n",
              "      <th>PendingOrder</th>\n",
              "      <th>Portions</th>\n",
              "      <th>PumpStrokes</th>\n",
              "      <th>Rotating</th>\n",
              "      <th>SlowPortioning</th>\n",
              "      <th>State</th>\n",
              "      <th>BottlesAvailable</th>\n",
              "      <th>BottleSlot1</th>\n",
              "      <th>BottleSlot2_H2O</th>\n",
              "      <th>BottleSlot3_Corn</th>\n",
              "      <th>BottleSlot5_CapOn</th>\n",
              "      <th>BottleSlot6_CapCloser</th>\n",
              "      <th>BottleSlot8_ModuleOut</th>\n",
              "      <th>BottlesNotUsed</th>\n",
              "      <th>UltraSonic_Corn.DistanceM</th>\n",
              "      <th>UltraSonic_H2O.DistanceM</th>\n",
              "      <th>BottlesAvailable.AnalogValue.EURangeViolation</th>\n",
              "      <th>BottleSlot1.AnalogValue.EURangeViolation</th>\n",
              "      <th>BottleSlot2_H2O.AnalogValue.EURangeViolation</th>\n",
              "      <th>BottleSlot3_Corn.AnalogValue.EURangeViolation</th>\n",
              "      <th>BottleSlot5_CapOn.AnalogValue.EURangeViolation</th>\n",
              "      <th>BottleSlot6_CapCloser.AnalogValue.EURangeViolation</th>\n",
              "      <th>BottleSlot8_ModuleOut.AnalogValue.EURangeViolation</th>\n",
              "      <th>BottlesNotUsed.AnalogValue.EURangeViolation</th>\n",
              "      <th>UltraSonic_Corn.DistanceM.EURangeViolation</th>\n",
              "      <th>UltraSonic_H2O.DistanceM.EURangeViolation</th>\n",
              "    </tr>\n",
              "    <tr>\n",
              "      <th>Timestamp</th>\n",
              "      <th></th>\n",
              "      <th></th>\n",
              "      <th></th>\n",
              "      <th></th>\n",
              "      <th></th>\n",
              "      <th></th>\n",
              "      <th></th>\n",
              "      <th></th>\n",
              "      <th></th>\n",
              "      <th></th>\n",
              "      <th></th>\n",
              "      <th></th>\n",
              "      <th></th>\n",
              "      <th></th>\n",
              "      <th></th>\n",
              "      <th></th>\n",
              "      <th></th>\n",
              "      <th></th>\n",
              "      <th></th>\n",
              "      <th></th>\n",
              "      <th></th>\n",
              "      <th></th>\n",
              "      <th></th>\n",
              "      <th></th>\n",
              "      <th></th>\n",
              "      <th></th>\n",
              "      <th></th>\n",
              "      <th></th>\n",
              "      <th></th>\n",
              "      <th></th>\n",
              "      <th></th>\n",
              "      <th></th>\n",
              "      <th></th>\n",
              "      <th></th>\n",
              "      <th></th>\n",
              "      <th></th>\n",
              "      <th></th>\n",
              "      <th></th>\n",
              "      <th></th>\n",
              "      <th></th>\n",
              "      <th></th>\n",
              "      <th></th>\n",
              "      <th></th>\n",
              "      <th></th>\n",
              "      <th></th>\n",
              "      <th></th>\n",
              "      <th></th>\n",
              "      <th></th>\n",
              "      <th></th>\n",
              "      <th></th>\n",
              "      <th></th>\n",
              "      <th></th>\n",
              "      <th></th>\n",
              "      <th></th>\n",
              "      <th></th>\n",
              "      <th></th>\n",
              "      <th></th>\n",
              "      <th></th>\n",
              "      <th></th>\n",
              "      <th></th>\n",
              "      <th></th>\n",
              "      <th></th>\n",
              "      <th></th>\n",
              "      <th></th>\n",
              "      <th></th>\n",
              "      <th></th>\n",
              "      <th></th>\n",
              "      <th></th>\n",
              "      <th></th>\n",
              "      <th></th>\n",
              "      <th></th>\n",
              "      <th></th>\n",
              "      <th></th>\n",
              "      <th></th>\n",
              "      <th></th>\n",
              "      <th></th>\n",
              "      <th></th>\n",
              "      <th></th>\n",
              "      <th></th>\n",
              "      <th></th>\n",
              "      <th></th>\n",
              "    </tr>\n",
              "  </thead>\n",
              "  <tbody>\n",
              "    <tr>\n",
              "      <th>1529500027127</th>\n",
              "      <td>0</td>\n",
              "      <td>0</td>\n",
              "      <td>1</td>\n",
              "      <td>1</td>\n",
              "      <td>1</td>\n",
              "      <td>1</td>\n",
              "      <td>0</td>\n",
              "      <td>0</td>\n",
              "      <td>0</td>\n",
              "      <td>0</td>\n",
              "      <td>0</td>\n",
              "      <td>0</td>\n",
              "      <td>1</td>\n",
              "      <td>1</td>\n",
              "      <td>0</td>\n",
              "      <td>1</td>\n",
              "      <td>0</td>\n",
              "      <td>0</td>\n",
              "      <td>1</td>\n",
              "      <td>0</td>\n",
              "      <td>0</td>\n",
              "      <td>1</td>\n",
              "      <td>0</td>\n",
              "      <td>0</td>\n",
              "      <td>1</td>\n",
              "      <td>1</td>\n",
              "      <td>0</td>\n",
              "      <td>1</td>\n",
              "      <td>0</td>\n",
              "      <td>1</td>\n",
              "      <td>0</td>\n",
              "      <td>1</td>\n",
              "      <td>1</td>\n",
              "      <td>1483</td>\n",
              "      <td>0</td>\n",
              "      <td>2500</td>\n",
              "      <td>1</td>\n",
              "      <td>1</td>\n",
              "      <td>0</td>\n",
              "      <td>0</td>\n",
              "      <td>...</td>\n",
              "      <td>0</td>\n",
              "      <td>0</td>\n",
              "      <td>0</td>\n",
              "      <td>0</td>\n",
              "      <td>0</td>\n",
              "      <td>1</td>\n",
              "      <td>1</td>\n",
              "      <td>1</td>\n",
              "      <td>0</td>\n",
              "      <td>0</td>\n",
              "      <td>0</td>\n",
              "      <td>1</td>\n",
              "      <td>0</td>\n",
              "      <td>0</td>\n",
              "      <td>0</td>\n",
              "      <td>4</td>\n",
              "      <td>3</td>\n",
              "      <td>0</td>\n",
              "      <td>0</td>\n",
              "      <td>0</td>\n",
              "      <td>2168</td>\n",
              "      <td>1196</td>\n",
              "      <td>1246</td>\n",
              "      <td>1054</td>\n",
              "      <td>1605</td>\n",
              "      <td>1246</td>\n",
              "      <td>1257</td>\n",
              "      <td>1864</td>\n",
              "      <td>1483</td>\n",
              "      <td>2500</td>\n",
              "      <td>0</td>\n",
              "      <td>0</td>\n",
              "      <td>0</td>\n",
              "      <td>0</td>\n",
              "      <td>0</td>\n",
              "      <td>0</td>\n",
              "      <td>0</td>\n",
              "      <td>0</td>\n",
              "      <td>0</td>\n",
              "      <td>0</td>\n",
              "    </tr>\n",
              "    <tr>\n",
              "      <th>1529500027227</th>\n",
              "      <td>0</td>\n",
              "      <td>0</td>\n",
              "      <td>1</td>\n",
              "      <td>1</td>\n",
              "      <td>1</td>\n",
              "      <td>1</td>\n",
              "      <td>0</td>\n",
              "      <td>0</td>\n",
              "      <td>0</td>\n",
              "      <td>0</td>\n",
              "      <td>0</td>\n",
              "      <td>0</td>\n",
              "      <td>1</td>\n",
              "      <td>1</td>\n",
              "      <td>0</td>\n",
              "      <td>1</td>\n",
              "      <td>0</td>\n",
              "      <td>0</td>\n",
              "      <td>1</td>\n",
              "      <td>0</td>\n",
              "      <td>0</td>\n",
              "      <td>1</td>\n",
              "      <td>0</td>\n",
              "      <td>0</td>\n",
              "      <td>1</td>\n",
              "      <td>1</td>\n",
              "      <td>0</td>\n",
              "      <td>1</td>\n",
              "      <td>0</td>\n",
              "      <td>1</td>\n",
              "      <td>0</td>\n",
              "      <td>1</td>\n",
              "      <td>1</td>\n",
              "      <td>1484</td>\n",
              "      <td>0</td>\n",
              "      <td>2500</td>\n",
              "      <td>1</td>\n",
              "      <td>1</td>\n",
              "      <td>0</td>\n",
              "      <td>0</td>\n",
              "      <td>...</td>\n",
              "      <td>0</td>\n",
              "      <td>0</td>\n",
              "      <td>0</td>\n",
              "      <td>0</td>\n",
              "      <td>0</td>\n",
              "      <td>1</td>\n",
              "      <td>1</td>\n",
              "      <td>1</td>\n",
              "      <td>0</td>\n",
              "      <td>0</td>\n",
              "      <td>0</td>\n",
              "      <td>1</td>\n",
              "      <td>0</td>\n",
              "      <td>0</td>\n",
              "      <td>0</td>\n",
              "      <td>4</td>\n",
              "      <td>3</td>\n",
              "      <td>0</td>\n",
              "      <td>0</td>\n",
              "      <td>0</td>\n",
              "      <td>2167</td>\n",
              "      <td>1196</td>\n",
              "      <td>1247</td>\n",
              "      <td>1053</td>\n",
              "      <td>1605</td>\n",
              "      <td>1246</td>\n",
              "      <td>1257</td>\n",
              "      <td>1864</td>\n",
              "      <td>1484</td>\n",
              "      <td>2500</td>\n",
              "      <td>0</td>\n",
              "      <td>0</td>\n",
              "      <td>0</td>\n",
              "      <td>0</td>\n",
              "      <td>0</td>\n",
              "      <td>0</td>\n",
              "      <td>0</td>\n",
              "      <td>0</td>\n",
              "      <td>0</td>\n",
              "      <td>0</td>\n",
              "    </tr>\n",
              "    <tr>\n",
              "      <th>1529500027327</th>\n",
              "      <td>0</td>\n",
              "      <td>0</td>\n",
              "      <td>1</td>\n",
              "      <td>1</td>\n",
              "      <td>1</td>\n",
              "      <td>1</td>\n",
              "      <td>0</td>\n",
              "      <td>0</td>\n",
              "      <td>0</td>\n",
              "      <td>0</td>\n",
              "      <td>0</td>\n",
              "      <td>0</td>\n",
              "      <td>1</td>\n",
              "      <td>1</td>\n",
              "      <td>0</td>\n",
              "      <td>1</td>\n",
              "      <td>0</td>\n",
              "      <td>0</td>\n",
              "      <td>1</td>\n",
              "      <td>0</td>\n",
              "      <td>0</td>\n",
              "      <td>1</td>\n",
              "      <td>0</td>\n",
              "      <td>0</td>\n",
              "      <td>1</td>\n",
              "      <td>1</td>\n",
              "      <td>0</td>\n",
              "      <td>1</td>\n",
              "      <td>0</td>\n",
              "      <td>1</td>\n",
              "      <td>0</td>\n",
              "      <td>1</td>\n",
              "      <td>1</td>\n",
              "      <td>1480</td>\n",
              "      <td>0</td>\n",
              "      <td>2500</td>\n",
              "      <td>1</td>\n",
              "      <td>1</td>\n",
              "      <td>0</td>\n",
              "      <td>0</td>\n",
              "      <td>...</td>\n",
              "      <td>0</td>\n",
              "      <td>0</td>\n",
              "      <td>0</td>\n",
              "      <td>0</td>\n",
              "      <td>0</td>\n",
              "      <td>1</td>\n",
              "      <td>1</td>\n",
              "      <td>1</td>\n",
              "      <td>0</td>\n",
              "      <td>0</td>\n",
              "      <td>0</td>\n",
              "      <td>1</td>\n",
              "      <td>0</td>\n",
              "      <td>0</td>\n",
              "      <td>0</td>\n",
              "      <td>4</td>\n",
              "      <td>3</td>\n",
              "      <td>0</td>\n",
              "      <td>0</td>\n",
              "      <td>0</td>\n",
              "      <td>2168</td>\n",
              "      <td>1196</td>\n",
              "      <td>1247</td>\n",
              "      <td>1054</td>\n",
              "      <td>1605</td>\n",
              "      <td>1246</td>\n",
              "      <td>1257</td>\n",
              "      <td>1864</td>\n",
              "      <td>1480</td>\n",
              "      <td>2500</td>\n",
              "      <td>0</td>\n",
              "      <td>0</td>\n",
              "      <td>0</td>\n",
              "      <td>0</td>\n",
              "      <td>0</td>\n",
              "      <td>0</td>\n",
              "      <td>0</td>\n",
              "      <td>0</td>\n",
              "      <td>0</td>\n",
              "      <td>0</td>\n",
              "    </tr>\n",
              "    <tr>\n",
              "      <th>1529500027428</th>\n",
              "      <td>0</td>\n",
              "      <td>0</td>\n",
              "      <td>1</td>\n",
              "      <td>1</td>\n",
              "      <td>1</td>\n",
              "      <td>1</td>\n",
              "      <td>0</td>\n",
              "      <td>0</td>\n",
              "      <td>0</td>\n",
              "      <td>0</td>\n",
              "      <td>0</td>\n",
              "      <td>0</td>\n",
              "      <td>1</td>\n",
              "      <td>1</td>\n",
              "      <td>0</td>\n",
              "      <td>1</td>\n",
              "      <td>0</td>\n",
              "      <td>0</td>\n",
              "      <td>1</td>\n",
              "      <td>0</td>\n",
              "      <td>0</td>\n",
              "      <td>1</td>\n",
              "      <td>0</td>\n",
              "      <td>0</td>\n",
              "      <td>1</td>\n",
              "      <td>1</td>\n",
              "      <td>0</td>\n",
              "      <td>1</td>\n",
              "      <td>0</td>\n",
              "      <td>1</td>\n",
              "      <td>0</td>\n",
              "      <td>1</td>\n",
              "      <td>1</td>\n",
              "      <td>1480</td>\n",
              "      <td>0</td>\n",
              "      <td>2500</td>\n",
              "      <td>1</td>\n",
              "      <td>1</td>\n",
              "      <td>0</td>\n",
              "      <td>0</td>\n",
              "      <td>...</td>\n",
              "      <td>0</td>\n",
              "      <td>0</td>\n",
              "      <td>0</td>\n",
              "      <td>0</td>\n",
              "      <td>0</td>\n",
              "      <td>1</td>\n",
              "      <td>1</td>\n",
              "      <td>1</td>\n",
              "      <td>0</td>\n",
              "      <td>0</td>\n",
              "      <td>0</td>\n",
              "      <td>1</td>\n",
              "      <td>0</td>\n",
              "      <td>0</td>\n",
              "      <td>0</td>\n",
              "      <td>4</td>\n",
              "      <td>3</td>\n",
              "      <td>0</td>\n",
              "      <td>0</td>\n",
              "      <td>0</td>\n",
              "      <td>2168</td>\n",
              "      <td>1196</td>\n",
              "      <td>1246</td>\n",
              "      <td>1053</td>\n",
              "      <td>1605</td>\n",
              "      <td>1246</td>\n",
              "      <td>1257</td>\n",
              "      <td>1864</td>\n",
              "      <td>1480</td>\n",
              "      <td>2500</td>\n",
              "      <td>0</td>\n",
              "      <td>0</td>\n",
              "      <td>0</td>\n",
              "      <td>0</td>\n",
              "      <td>0</td>\n",
              "      <td>0</td>\n",
              "      <td>0</td>\n",
              "      <td>0</td>\n",
              "      <td>0</td>\n",
              "      <td>0</td>\n",
              "    </tr>\n",
              "    <tr>\n",
              "      <th>1529500027528</th>\n",
              "      <td>0</td>\n",
              "      <td>0</td>\n",
              "      <td>1</td>\n",
              "      <td>1</td>\n",
              "      <td>1</td>\n",
              "      <td>1</td>\n",
              "      <td>0</td>\n",
              "      <td>0</td>\n",
              "      <td>0</td>\n",
              "      <td>0</td>\n",
              "      <td>0</td>\n",
              "      <td>0</td>\n",
              "      <td>1</td>\n",
              "      <td>1</td>\n",
              "      <td>0</td>\n",
              "      <td>1</td>\n",
              "      <td>0</td>\n",
              "      <td>0</td>\n",
              "      <td>1</td>\n",
              "      <td>0</td>\n",
              "      <td>0</td>\n",
              "      <td>1</td>\n",
              "      <td>0</td>\n",
              "      <td>0</td>\n",
              "      <td>1</td>\n",
              "      <td>1</td>\n",
              "      <td>0</td>\n",
              "      <td>1</td>\n",
              "      <td>0</td>\n",
              "      <td>1</td>\n",
              "      <td>0</td>\n",
              "      <td>1</td>\n",
              "      <td>1</td>\n",
              "      <td>1484</td>\n",
              "      <td>0</td>\n",
              "      <td>2500</td>\n",
              "      <td>1</td>\n",
              "      <td>1</td>\n",
              "      <td>0</td>\n",
              "      <td>0</td>\n",
              "      <td>...</td>\n",
              "      <td>0</td>\n",
              "      <td>0</td>\n",
              "      <td>0</td>\n",
              "      <td>0</td>\n",
              "      <td>0</td>\n",
              "      <td>1</td>\n",
              "      <td>1</td>\n",
              "      <td>1</td>\n",
              "      <td>0</td>\n",
              "      <td>0</td>\n",
              "      <td>0</td>\n",
              "      <td>1</td>\n",
              "      <td>0</td>\n",
              "      <td>0</td>\n",
              "      <td>0</td>\n",
              "      <td>4</td>\n",
              "      <td>3</td>\n",
              "      <td>0</td>\n",
              "      <td>0</td>\n",
              "      <td>0</td>\n",
              "      <td>2167</td>\n",
              "      <td>1196</td>\n",
              "      <td>1247</td>\n",
              "      <td>1053</td>\n",
              "      <td>1605</td>\n",
              "      <td>1246</td>\n",
              "      <td>1257</td>\n",
              "      <td>1863</td>\n",
              "      <td>1484</td>\n",
              "      <td>2500</td>\n",
              "      <td>0</td>\n",
              "      <td>0</td>\n",
              "      <td>0</td>\n",
              "      <td>0</td>\n",
              "      <td>0</td>\n",
              "      <td>0</td>\n",
              "      <td>0</td>\n",
              "      <td>0</td>\n",
              "      <td>0</td>\n",
              "      <td>0</td>\n",
              "    </tr>\n",
              "  </tbody>\n",
              "</table>\n",
              "<p>5 rows × 84 columns</p>\n",
              "</div>"
            ],
            "text/plain": [
              "               I_BottleAtAirpipe  ...  UltraSonic_H2O.DistanceM.EURangeViolation\n",
              "Timestamp                         ...                                           \n",
              "1529500027127                  0  ...                                          0\n",
              "1529500027227                  0  ...                                          0\n",
              "1529500027327                  0  ...                                          0\n",
              "1529500027428                  0  ...                                          0\n",
              "1529500027528                  0  ...                                          0\n",
              "\n",
              "[5 rows x 84 columns]"
            ]
          },
          "metadata": {
            "tags": []
          },
          "execution_count": 46
        }
      ]
    },
    {
      "cell_type": "markdown",
      "metadata": {
        "id": "B4L4UWkHnK3q",
        "colab_type": "text"
      },
      "source": [
        "## Task Definition\n",
        "\n",
        "A common factory monitoring scenario is to predict a target based on past history.\n",
        "\n",
        "For the purposes of this workshop, let's try to predict the value of 'I_BottlesReserveAvailable', using last 10 values of each feature."
      ]
    },
    {
      "cell_type": "code",
      "metadata": {
        "id": "KVGhZWp0mSco",
        "colab_type": "code",
        "outputId": "60966ef0-40cc-449a-a56c-701c01693acc",
        "colab": {
          "base_uri": "https://localhost:8080/",
          "height": 285
        }
      },
      "source": [
        "# Target\n",
        "target = 'I_BottlesReserveAvailable'\n",
        "\n",
        "df[target].plot();"
      ],
      "execution_count": 47,
      "outputs": [
        {
          "output_type": "display_data",
          "data": {
            "image/png": "[encoded data removed]",
            "text/plain": [
              "<Figure size 432x288 with 1 Axes>"
            ]
          },
          "metadata": {
            "tags": []
          }
        }
      ]
    },
    {
      "cell_type": "code",
      "metadata": {
        "colab_type": "code",
        "id": "vJxiO4oBWv79",
        "outputId": "bd8e4033-9c39-46a6-b02c-958a38b8329a",
        "colab": {
          "base_uri": "https://localhost:8080/",
          "height": 68
        }
      },
      "source": [
        "# check for balanced classes\n",
        "df[target].value_counts()"
      ],
      "execution_count": 48,
      "outputs": [
        {
          "output_type": "execute_result",
          "data": {
            "text/plain": [
              "1    5603\n",
              "0    4926\n",
              "Name: I_BottlesReserveAvailable, dtype: int64"
            ]
          },
          "metadata": {
            "tags": []
          },
          "execution_count": 48
        }
      ]
    },
    {
      "cell_type": "code",
      "metadata": {
        "id": "dSPmAh6OZO24",
        "colab_type": "code",
        "outputId": "76f9a2df-5445-4a2d-cb18-45f6788af66a",
        "colab": {
          "base_uri": "https://localhost:8080/",
          "height": 617
        }
      },
      "source": [
        "# drop some columns that the target is derived from (otherwise we are cheating)\n",
        "df.drop(['BottlesAvailable', 'BottlesNotUsed', 'I_BottleStorageFull'], axis=1, inplace=True)\n",
        "df.columns"
      ],
      "execution_count": 49,
      "outputs": [
        {
          "output_type": "execute_result",
          "data": {
            "text/plain": [
              "Index(['I_BottleAtAirpipe', 'I_BottleClampClose', 'I_BottleClampOpen',\n",
              "       'I_BottleGateClosed', 'I_BottleReserveGateClosed', 'I_BottlesAvailable',\n",
              "       'I_BottleSlot1', 'I_BottleSlot2_H2O', 'I_BottleSlot3_Corn',\n",
              "       'I_BottleSlot5_CapOn', 'I_BottleSlot6_CapScrewer',\n",
              "       'I_BottleSlot8_Output', 'I_BottlesReserveAvailable', 'I_CapGrabberDown',\n",
              "       'I_CapGrabberUp', 'I_CapOnConveyor', 'I_CapScrewer_Down',\n",
              "       'I_CapScrewer_Up', 'I_CapScrewerClosePos', 'I_CapScrewerGrabClosed',\n",
              "       'I_CapScrewerOpenPos', 'I_CornTankFull', 'I_LinAxisCapInGrabber',\n",
              "       'I_LinAxisDown', 'I_LinAxisEmptyGrabber', 'I_LinAxisUp',\n",
              "       'I_NoCapOnConveyor', 'I_Portioning', 'I_Pump_Down', 'I_Pump_Up',\n",
              "       'I_RotaryTablePosReached', 'I_UltrasonicCorn',\n",
              "       'I_UltrasonicCorn_Distance', 'I_UltrasonicH2O',\n",
              "       'I_UltrasonicH2O_Distance', 'I_WaterTankMinFull', 'I_WaterTankNotFull',\n",
              "       'O_ActivateAirpipe', 'O_BottleClampClose', 'O_CapGrabberOpenClose',\n",
              "       'O_CapGrabberUpDown', 'O_CapScrewDown', 'O_CapScrewerGrabberOpenClose',\n",
              "       'O_CloseCap', 'O_ConveyorCapsEnable', 'O_ConveyorCapsForward',\n",
              "       'O_ConveyorModuleIn', 'O_ConveyorModuleOut', 'O_GateBottleClose',\n",
              "       'O_GateReserveClose', 'O_LinAxisUpDown', 'O_PortionerForward',\n",
              "       'O_PortionerReverse', 'O_PortionerSlow', 'O_PumpUpDown',\n",
              "       'O_RotaryTable', 'O_ValvePumpCloseOpen', 'PendingOrder', 'Portions',\n",
              "       'PumpStrokes', 'Rotating', 'SlowPortioning', 'State', 'BottleSlot1',\n",
              "       'BottleSlot2_H2O', 'BottleSlot3_Corn', 'BottleSlot5_CapOn',\n",
              "       'BottleSlot6_CapCloser', 'BottleSlot8_ModuleOut',\n",
              "       'UltraSonic_Corn.DistanceM', 'UltraSonic_H2O.DistanceM',\n",
              "       'BottlesAvailable.AnalogValue.EURangeViolation',\n",
              "       'BottleSlot1.AnalogValue.EURangeViolation',\n",
              "       'BottleSlot2_H2O.AnalogValue.EURangeViolation',\n",
              "       'BottleSlot3_Corn.AnalogValue.EURangeViolation',\n",
              "       'BottleSlot5_CapOn.AnalogValue.EURangeViolation',\n",
              "       'BottleSlot6_CapCloser.AnalogValue.EURangeViolation',\n",
              "       'BottleSlot8_ModuleOut.AnalogValue.EURangeViolation',\n",
              "       'BottlesNotUsed.AnalogValue.EURangeViolation',\n",
              "       'UltraSonic_Corn.DistanceM.EURangeViolation',\n",
              "       'UltraSonic_H2O.DistanceM.EURangeViolation'],\n",
              "      dtype='object')"
            ]
          },
          "metadata": {
            "tags": []
          },
          "execution_count": 49
        }
      ]
    },
    {
      "cell_type": "markdown",
      "metadata": {
        "id": "s-PJjLMPLNKV",
        "colab_type": "text"
      },
      "source": [
        ""
      ]
    },
    {
      "cell_type": "markdown",
      "metadata": {
        "id": "Vdl1Wtt7w526",
        "colab_type": "text"
      },
      "source": [
        "## Reserve for testing\n",
        "\n",
        "Reserve the some values for testing on the Raspberry Pi.\n"
      ]
    },
    {
      "cell_type": "code",
      "metadata": {
        "id": "CFR6DTl5xDwK",
        "colab_type": "code",
        "outputId": "1fac5922-fef4-4136-ac05-9220142425d9",
        "colab": {
          "base_uri": "https://localhost:8080/",
          "height": 34
        }
      },
      "source": [
        "test_size = 100\n",
        "\n",
        "df_train = df.iloc[:-test_size]\n",
        "df_test = df.iloc[-test_size:]\n",
        "\n",
        "df_train.shape, df_test.shape"
      ],
      "execution_count": 50,
      "outputs": [
        {
          "output_type": "execute_result",
          "data": {
            "text/plain": [
              "((10429, 81), (100, 81))"
            ]
          },
          "metadata": {
            "tags": []
          },
          "execution_count": 50
        }
      ]
    },
    {
      "cell_type": "code",
      "metadata": {
        "id": "jTFHCNClxGda",
        "colab_type": "code",
        "colab": {}
      },
      "source": [
        "# save input numpy arrays for later use\n",
        "pickle.dump(df_train.loc[:, df_train.columns != target].values,\n",
        "            open('./X_train.pkl', 'wb'))\n",
        "\n",
        "pickle.dump(df_test.loc[:, df_test.columns != target].values,\n",
        "            open('./X_test.pkl', 'wb'))"
      ],
      "execution_count": 0,
      "outputs": []
    },
    {
      "cell_type": "markdown",
      "metadata": {
        "id": "Wi1EqEi0p_Ig",
        "colab_type": "text"
      },
      "source": [
        "## Feature Selection\n",
        "\n",
        "First, some basic feature selection: Filter out columns that don't change very much (low variance). "
      ]
    },
    {
      "cell_type": "code",
      "metadata": {
        "id": "RJl8kbsfnc0C",
        "colab_type": "code",
        "outputId": "fc682b91-0c72-446d-a781-d50512516a1a",
        "colab": {
          "base_uri": "https://localhost:8080/",
          "height": 600
        }
      },
      "source": [
        "# Candidate features\n",
        "\n",
        "candidates = df_train.columns[df_train.columns != target]\n",
        "candidates"
      ],
      "execution_count": 52,
      "outputs": [
        {
          "output_type": "execute_result",
          "data": {
            "text/plain": [
              "Index(['I_BottleAtAirpipe', 'I_BottleClampClose', 'I_BottleClampOpen',\n",
              "       'I_BottleGateClosed', 'I_BottleReserveGateClosed', 'I_BottlesAvailable',\n",
              "       'I_BottleSlot1', 'I_BottleSlot2_H2O', 'I_BottleSlot3_Corn',\n",
              "       'I_BottleSlot5_CapOn', 'I_BottleSlot6_CapScrewer',\n",
              "       'I_BottleSlot8_Output', 'I_CapGrabberDown', 'I_CapGrabberUp',\n",
              "       'I_CapOnConveyor', 'I_CapScrewer_Down', 'I_CapScrewer_Up',\n",
              "       'I_CapScrewerClosePos', 'I_CapScrewerGrabClosed', 'I_CapScrewerOpenPos',\n",
              "       'I_CornTankFull', 'I_LinAxisCapInGrabber', 'I_LinAxisDown',\n",
              "       'I_LinAxisEmptyGrabber', 'I_LinAxisUp', 'I_NoCapOnConveyor',\n",
              "       'I_Portioning', 'I_Pump_Down', 'I_Pump_Up', 'I_RotaryTablePosReached',\n",
              "       'I_UltrasonicCorn', 'I_UltrasonicCorn_Distance', 'I_UltrasonicH2O',\n",
              "       'I_UltrasonicH2O_Distance', 'I_WaterTankMinFull', 'I_WaterTankNotFull',\n",
              "       'O_ActivateAirpipe', 'O_BottleClampClose', 'O_CapGrabberOpenClose',\n",
              "       'O_CapGrabberUpDown', 'O_CapScrewDown', 'O_CapScrewerGrabberOpenClose',\n",
              "       'O_CloseCap', 'O_ConveyorCapsEnable', 'O_ConveyorCapsForward',\n",
              "       'O_ConveyorModuleIn', 'O_ConveyorModuleOut', 'O_GateBottleClose',\n",
              "       'O_GateReserveClose', 'O_LinAxisUpDown', 'O_PortionerForward',\n",
              "       'O_PortionerReverse', 'O_PortionerSlow', 'O_PumpUpDown',\n",
              "       'O_RotaryTable', 'O_ValvePumpCloseOpen', 'PendingOrder', 'Portions',\n",
              "       'PumpStrokes', 'Rotating', 'SlowPortioning', 'State', 'BottleSlot1',\n",
              "       'BottleSlot2_H2O', 'BottleSlot3_Corn', 'BottleSlot5_CapOn',\n",
              "       'BottleSlot6_CapCloser', 'BottleSlot8_ModuleOut',\n",
              "       'UltraSonic_Corn.DistanceM', 'UltraSonic_H2O.DistanceM',\n",
              "       'BottlesAvailable.AnalogValue.EURangeViolation',\n",
              "       'BottleSlot1.AnalogValue.EURangeViolation',\n",
              "       'BottleSlot2_H2O.AnalogValue.EURangeViolation',\n",
              "       'BottleSlot3_Corn.AnalogValue.EURangeViolation',\n",
              "       'BottleSlot5_CapOn.AnalogValue.EURangeViolation',\n",
              "       'BottleSlot6_CapCloser.AnalogValue.EURangeViolation',\n",
              "       'BottleSlot8_ModuleOut.AnalogValue.EURangeViolation',\n",
              "       'BottlesNotUsed.AnalogValue.EURangeViolation',\n",
              "       'UltraSonic_Corn.DistanceM.EURangeViolation',\n",
              "       'UltraSonic_H2O.DistanceM.EURangeViolation'],\n",
              "      dtype='object')"
            ]
          },
          "metadata": {
            "tags": []
          },
          "execution_count": 52
        }
      ]
    },
    {
      "cell_type": "code",
      "metadata": {
        "id": "Y6RmjiHnosf0",
        "colab_type": "code",
        "outputId": "8aba98e8-46db-469b-b0a5-e8c928484a8b",
        "colab": {
          "base_uri": "https://localhost:8080/",
          "height": 257
        }
      },
      "source": [
        "# Apply variance threshold of 0.1\n",
        "vt = VarianceThreshold(threshold=0.1)\n",
        "vt.fit(df_train[candidates])\n",
        "\n",
        "# filtered out features\n",
        "features = candidates[vt.get_support()]\n",
        "features"
      ],
      "execution_count": 53,
      "outputs": [
        {
          "output_type": "execute_result",
          "data": {
            "text/plain": [
              "Index(['I_BottleClampClose', 'I_BottleClampOpen', 'I_BottleSlot2_H2O',\n",
              "       'I_BottleSlot3_Corn', 'I_BottleSlot5_CapOn', 'I_BottleSlot6_CapScrewer',\n",
              "       'I_CapGrabberUp', 'I_CapScrewer_Up', 'I_CapScrewerOpenPos',\n",
              "       'I_LinAxisCapInGrabber', 'I_LinAxisDown', 'I_LinAxisEmptyGrabber',\n",
              "       'I_Pump_Down', 'I_RotaryTablePosReached', 'I_UltrasonicCorn',\n",
              "       'I_UltrasonicCorn_Distance', 'I_UltrasonicH2O_Distance',\n",
              "       'O_BottleClampClose', 'O_CapGrabberOpenClose', 'O_CapGrabberUpDown',\n",
              "       'O_CapScrewDown', 'O_CloseCap', 'O_ConveyorCapsForward',\n",
              "       'O_LinAxisUpDown', 'O_RotaryTable', 'O_ValvePumpCloseOpen',\n",
              "       'PendingOrder', 'Rotating', 'State', 'BottleSlot1', 'BottleSlot2_H2O',\n",
              "       'BottleSlot3_Corn', 'BottleSlot5_CapOn', 'BottleSlot6_CapCloser',\n",
              "       'BottleSlot8_ModuleOut', 'UltraSonic_Corn.DistanceM',\n",
              "       'UltraSonic_H2O.DistanceM'],\n",
              "      dtype='object')"
            ]
          },
          "metadata": {
            "tags": []
          },
          "execution_count": 53
        }
      ]
    },
    {
      "cell_type": "markdown",
      "metadata": {
        "id": "I450WKGxp8iK",
        "colab_type": "text"
      },
      "source": [
        "## Scaling\n",
        "\n",
        "Next, scale the features so that we can speed up training."
      ]
    },
    {
      "cell_type": "code",
      "metadata": {
        "id": "sxqF8I-Ns2xj",
        "colab_type": "code",
        "outputId": "f008232d-0686-40b4-a895-dc41ba09ddda",
        "colab": {
          "base_uri": "https://localhost:8080/",
          "height": 240
        }
      },
      "source": [
        "feature_scaler = MinMaxScaler(feature_range=(-1, 1))\n",
        "feature_values = feature_scaler.fit_transform(df_train[features])\n",
        "feature_values"
      ],
      "execution_count": 54,
      "outputs": [
        {
          "output_type": "execute_result",
          "data": {
            "text/plain": [
              "array([[-1.        ,  1.        , -1.        , ..., -0.99369085,\n",
              "        -0.94641148,  1.        ],\n",
              "       [-1.        ,  1.        , -1.        , ..., -0.99369085,\n",
              "        -0.94449761,  1.        ],\n",
              "       [-1.        ,  1.        , -1.        , ..., -0.99369085,\n",
              "        -0.95215311,  1.        ],\n",
              "       ...,\n",
              "       [-1.        ,  1.        , -1.        , ..., -0.99369085,\n",
              "        -0.99808612, -0.53684211],\n",
              "       [-1.        ,  1.        , -1.        , ..., -0.99369085,\n",
              "        -0.99808612, -0.53684211],\n",
              "       [-1.        ,  1.        , -1.        , ..., -0.99369085,\n",
              "        -0.99808612, -0.53684211]])"
            ]
          },
          "metadata": {
            "tags": []
          },
          "execution_count": 54
        }
      ]
    },
    {
      "cell_type": "markdown",
      "metadata": {
        "id": "QwfGR-uttMFp",
        "colab_type": "text"
      },
      "source": [
        "## Time Series Windowing\n",
        "\n",
        "Next, convert the time series so that each entry contains a series of timesteps.\n",
        "\n",
        "Before: rows, features\n",
        "\n",
        "After: rows, timesteps, features\n",
        "\n",
        "Note that some rows will be removed because we are taking a window of values."
      ]
    },
    {
      "cell_type": "code",
      "metadata": {
        "id": "dQcRa6rhuAT6",
        "colab_type": "code",
        "outputId": "fa129004-0197-48cf-c1de-65ab6f03d67d",
        "colab": {
          "base_uri": "https://localhost:8080/",
          "height": 51
        }
      },
      "source": [
        "timesteps = 10\n",
        "\n",
        "print(feature_values.shape) # (rows, features)\n",
        "\n",
        "rolling_indexes = [(range(i, i+timesteps))\n",
        "                   for i in range(feature_values.shape[0]-timesteps)]\n",
        "\n",
        "X_sequence = np.take(feature_values, rolling_indexes, axis=0)\n",
        "X_sequence.shape # (rows, timesteps, features)"
      ],
      "execution_count": 55,
      "outputs": [
        {
          "output_type": "stream",
          "text": [
            "(10429, 37)\n"
          ],
          "name": "stdout"
        },
        {
          "output_type": "execute_result",
          "data": {
            "text/plain": [
              "(10419, 10, 37)"
            ]
          },
          "metadata": {
            "tags": []
          },
          "execution_count": 55
        }
      ]
    },
    {
      "cell_type": "code",
      "metadata": {
        "id": "9S6D2yR2u_Jk",
        "colab_type": "code",
        "outputId": "d106bbbe-b550-4a8b-ec83-f3264ddcb32e",
        "colab": {
          "base_uri": "https://localhost:8080/",
          "height": 34
        }
      },
      "source": [
        "# shift y down by 1 value so that we are predicting the future\n",
        "# make sure y is the same length as X_sequence\n",
        "\n",
        "# print(df[target].shape)\n",
        "y = df[target][timesteps:X_sequence.shape[0]+timesteps].values\n",
        "y.shape"
      ],
      "execution_count": 56,
      "outputs": [
        {
          "output_type": "execute_result",
          "data": {
            "text/plain": [
              "(10419,)"
            ]
          },
          "metadata": {
            "tags": []
          },
          "execution_count": 56
        }
      ]
    },
    {
      "cell_type": "markdown",
      "metadata": {
        "id": "4X6W5eIGvqvu",
        "colab_type": "text"
      },
      "source": [
        "## Train model\n",
        "\n",
        "We will train a very simple 1D convolutional model to try to predict y from X_sequence. \n",
        "\n",
        "To recap:\n",
        "\n",
        "- X_sequence (rows, timesteps, features): each scaled feature at [t-9] ... [t]\n",
        "- y (rows): target[t+1]\n",
        "\n",
        "The convolutional 1D layer will look at windows of timesteps, one feature at a time. Here's a more detailed reference on it for time series data: https://missinglink.ai/guides/keras/keras-conv1d-working-1d-convolutional-neural-networks-keras/\n",
        "\n",
        "\n",
        "Note: we can also train an LSTM model, but currently Tensorflow Lite with Keras does not support it nicely (yet): https://github.com/tensorflow/tensorflow/issues/30864"
      ]
    },
    {
      "cell_type": "code",
      "metadata": {
        "id": "ZJNTF_O0wwWx",
        "colab_type": "code",
        "outputId": "1ab4a758-432d-4a9a-fcde-9a89f48f6c40",
        "colab": {
          "base_uri": "https://localhost:8080/",
          "height": 34
        }
      },
      "source": [
        "# create training and validation set\n",
        "X_train, X_val, y_train, y_val = train_test_split(X_sequence, y, test_size=0.1,\n",
        "                                                  stratify=y)\n",
        "\n",
        "X_train.shape, X_val.shape, y_train.shape, y_val.shape"
      ],
      "execution_count": 57,
      "outputs": [
        {
          "output_type": "execute_result",
          "data": {
            "text/plain": [
              "((9377, 10, 37), (1042, 10, 37), (9377,), (1042,))"
            ]
          },
          "metadata": {
            "tags": []
          },
          "execution_count": 57
        }
      ]
    },
    {
      "cell_type": "code",
      "metadata": {
        "id": "vQFDJF2ZzIgz",
        "colab_type": "code",
        "outputId": "8f838957-9256-41bf-cbd0-4f3c5030be28",
        "colab": {
          "base_uri": "https://localhost:8080/",
          "height": 291
        }
      },
      "source": [
        "model = Sequential()\n",
        "\n",
        "# input_shape=(timesteps, features)\n",
        "model.add(Conv1D(64, kernel_size=3,\n",
        "                 input_shape=(X_train.shape[1], X_train.shape[2]),\n",
        "                 activation='relu', padding='same'))\n",
        "model.add(Flatten())\n",
        "model.add(Dense(64, activation='relu'))\n",
        "model.add(Dense(1, activation='sigmoid'))\n",
        "model.summary()"
      ],
      "execution_count": 58,
      "outputs": [
        {
          "output_type": "stream",
          "text": [
            "Model: \"sequential_2\"\n",
            "_________________________________________________________________\n",
            "Layer (type)                 Output Shape              Param #   \n",
            "=================================================================\n",
            "conv1d_2 (Conv1D)            (None, 10, 64)            7168      \n",
            "_________________________________________________________________\n",
            "flatten_2 (Flatten)          (None, 640)               0         \n",
            "_________________________________________________________________\n",
            "dense_4 (Dense)              (None, 64)                41024     \n",
            "_________________________________________________________________\n",
            "dense_5 (Dense)              (None, 1)                 65        \n",
            "=================================================================\n",
            "Total params: 48,257\n",
            "Trainable params: 48,257\n",
            "Non-trainable params: 0\n",
            "_________________________________________________________________\n"
          ],
          "name": "stdout"
        }
      ]
    },
    {
      "cell_type": "code",
      "metadata": {
        "id": "gBg-PTRMzeRW",
        "colab_type": "code",
        "colab": {}
      },
      "source": [
        "model.compile(loss='binary_crossentropy', optimizer='adam', metrics=['acc'])"
      ],
      "execution_count": 0,
      "outputs": []
    },
    {
      "cell_type": "code",
      "metadata": {
        "id": "4Y9pngt3znUO",
        "colab_type": "code",
        "colab": {}
      },
      "source": [
        "mc = ModelCheckpoint('./cnn.h5', save_best_only=True)"
      ],
      "execution_count": 0,
      "outputs": []
    },
    {
      "cell_type": "code",
      "metadata": {
        "id": "Lz_DdKvCzwzP",
        "colab_type": "code",
        "colab": {
          "base_uri": "https://localhost:8080/",
          "height": 740
        },
        "outputId": "da528807-1a32-4e07-a7b8-f63f26849490"
      },
      "source": [
        "history = model.fit(X_train, y_train, epochs=20,\n",
        "                    validation_data=(X_val, y_val), callbacks=[mc])"
      ],
      "execution_count": 61,
      "outputs": [
        {
          "output_type": "stream",
          "text": [
            "Train on 9377 samples, validate on 1042 samples\n",
            "Epoch 1/20\n",
            "9377/9377 [==============================] - 2s 165us/sample - loss: 0.2261 - acc: 0.9034 - val_loss: 0.1664 - val_acc: 0.9357\n",
            "Epoch 2/20\n",
            "9377/9377 [==============================] - 1s 114us/sample - loss: 0.1182 - acc: 0.9463 - val_loss: 0.1019 - val_acc: 0.9578\n",
            "Epoch 3/20\n",
            "9377/9377 [==============================] - 1s 108us/sample - loss: 0.0898 - acc: 0.9616 - val_loss: 0.0967 - val_acc: 0.9626\n",
            "Epoch 4/20\n",
            "9377/9377 [==============================] - 1s 108us/sample - loss: 0.0782 - acc: 0.9651 - val_loss: 0.0791 - val_acc: 0.9559\n",
            "Epoch 5/20\n",
            "9377/9377 [==============================] - 1s 115us/sample - loss: 0.0735 - acc: 0.9673 - val_loss: 0.0741 - val_acc: 0.9655\n",
            "Epoch 6/20\n",
            "9377/9377 [==============================] - 1s 109us/sample - loss: 0.0678 - acc: 0.9682 - val_loss: 0.0664 - val_acc: 0.9683\n",
            "Epoch 7/20\n",
            "9377/9377 [==============================] - 1s 107us/sample - loss: 0.0591 - acc: 0.9724 - val_loss: 0.0724 - val_acc: 0.9693\n",
            "Epoch 8/20\n",
            "9377/9377 [==============================] - 1s 112us/sample - loss: 0.0595 - acc: 0.9742 - val_loss: 0.0555 - val_acc: 0.9693\n",
            "Epoch 9/20\n",
            "9377/9377 [==============================] - 1s 108us/sample - loss: 0.0481 - acc: 0.9786 - val_loss: 0.0848 - val_acc: 0.9674\n",
            "Epoch 10/20\n",
            "9377/9377 [==============================] - 1s 108us/sample - loss: 0.0467 - acc: 0.9797 - val_loss: 0.0640 - val_acc: 0.9760\n",
            "Epoch 11/20\n",
            "9377/9377 [==============================] - 1s 113us/sample - loss: 0.0500 - acc: 0.9801 - val_loss: 0.0751 - val_acc: 0.9587\n",
            "Epoch 12/20\n",
            "9377/9377 [==============================] - 1s 113us/sample - loss: 0.0409 - acc: 0.9836 - val_loss: 0.0546 - val_acc: 0.9722\n",
            "Epoch 13/20\n",
            "9377/9377 [==============================] - 1s 117us/sample - loss: 0.0465 - acc: 0.9813 - val_loss: 0.0399 - val_acc: 0.9818\n",
            "Epoch 14/20\n",
            "9377/9377 [==============================] - 1s 111us/sample - loss: 0.0345 - acc: 0.9858 - val_loss: 0.0413 - val_acc: 0.9837\n",
            "Epoch 15/20\n",
            "9377/9377 [==============================] - 1s 114us/sample - loss: 0.0398 - acc: 0.9863 - val_loss: 0.0382 - val_acc: 0.9837\n",
            "Epoch 16/20\n",
            "9377/9377 [==============================] - 1s 114us/sample - loss: 0.0455 - acc: 0.9842 - val_loss: 0.0416 - val_acc: 0.9856\n",
            "Epoch 17/20\n",
            "9377/9377 [==============================] - 1s 114us/sample - loss: 0.0282 - acc: 0.9899 - val_loss: 0.0346 - val_acc: 0.9875\n",
            "Epoch 18/20\n",
            "9377/9377 [==============================] - 1s 116us/sample - loss: 0.0300 - acc: 0.9902 - val_loss: 0.0329 - val_acc: 0.9875\n",
            "Epoch 19/20\n",
            "9377/9377 [==============================] - 1s 110us/sample - loss: 0.0258 - acc: 0.9905 - val_loss: 0.0392 - val_acc: 0.9856\n",
            "Epoch 20/20\n",
            "9377/9377 [==============================] - 1s 115us/sample - loss: 0.0334 - acc: 0.9863 - val_loss: 0.0320 - val_acc: 0.9866\n"
          ],
          "name": "stdout"
        }
      ]
    },
    {
      "cell_type": "code",
      "metadata": {
        "id": "hbuJgmewz8im",
        "colab_type": "code",
        "colab": {
          "base_uri": "https://localhost:8080/",
          "height": 518
        },
        "outputId": "91f65cf3-f53d-4edf-86cc-34a579de93d2"
      },
      "source": [
        "fig, ax = plt.subplots(figsize=(10, 8))\n",
        "ax.plot(history.history['loss'], label='train')\n",
        "ax.plot(history.history['val_loss'], label='val')\n",
        "ax.legend()\n",
        "ax.set_title('Learning curve')\n",
        "ax.set_xlabel('Epochs')\n",
        "ax.set_ylabel('Loss')\n",
        "plt.show()"
      ],
      "execution_count": 41,
      "outputs": [
        {
          "output_type": "display_data",
          "data": {
            "image/png": "[encoded data removed]",
            "text/plain": [
              "<Figure size 720x576 with 1 Axes>"
            ]
          },
          "metadata": {
            "tags": []
          }
        }
      ]
    },
    {
      "cell_type": "markdown",
      "metadata": {
        "id": "tahIDN_WDvQM",
        "colab_type": "text"
      },
      "source": [
        "### Predictions\n",
        "\n",
        "We'll test the model by getting predictions for our test data.\n",
        "\n",
        "The steps followed here will be repeated on the Raspberry Pi, so we want to make sure these are repeatable."
      ]
    },
    {
      "cell_type": "code",
      "metadata": {
        "id": "hiJUdJpSDlNZ",
        "colab_type": "code",
        "colab": {
          "base_uri": "https://localhost:8080/",
          "height": 34
        },
        "outputId": "45293c88-8ef9-4512-fcbc-9da7fbaf76ee"
      },
      "source": [
        "df_test_X = df_test.loc[:, df_test.columns != target]\n",
        "df_test_y = df_test[[target]]\n",
        "\n",
        "df_test_X.shape, df_test_y.shape"
      ],
      "execution_count": 62,
      "outputs": [
        {
          "output_type": "execute_result",
          "data": {
            "text/plain": [
              "((100, 80), (100, 1))"
            ]
          },
          "metadata": {
            "tags": []
          },
          "execution_count": 62
        }
      ]
    },
    {
      "cell_type": "code",
      "metadata": {
        "id": "USjKp883EOqk",
        "colab_type": "code",
        "colab": {
          "base_uri": "https://localhost:8080/",
          "height": 34
        },
        "outputId": "50a634ae-d9e4-42e5-8971-224dec9ef17d"
      },
      "source": [
        "# select features\n",
        "test_X = vt.transform(df_test_X)\n",
        "\n",
        "# scale\n",
        "test_X_scaled = feature_scaler.transform(test_X)\n",
        "\n",
        "# create windowed\n",
        "rolling_indexes = [(range(i, i+timesteps))\n",
        "                   for i in range(test_X_scaled.shape[0]-timesteps)]\n",
        "\n",
        "test_X_sequence = np.take(test_X_scaled, rolling_indexes, axis=0)\n",
        "\n",
        "print(test_X_sequence.shape) # (rows, timesteps, features)"
      ],
      "execution_count": 63,
      "outputs": [
        {
          "output_type": "stream",
          "text": [
            "(90, 10, 37)\n"
          ],
          "name": "stdout"
        }
      ]
    },
    {
      "cell_type": "code",
      "metadata": {
        "id": "zGz6tdoxJHcx",
        "colab_type": "code",
        "colab": {
          "base_uri": "https://localhost:8080/",
          "height": 34
        },
        "outputId": "b597a30f-c4bf-4df6-dd0e-c5d4d7ff68b8"
      },
      "source": [
        "# shift y down by window values so that we are predicting the future\n",
        "test_y = df_test_y[timesteps:] \n",
        "\n",
        "# make sure y is the same number of rows as test_X_sequence\n",
        "print(test_y.shape)"
      ],
      "execution_count": 64,
      "outputs": [
        {
          "output_type": "stream",
          "text": [
            "(90, 1)\n"
          ],
          "name": "stdout"
        }
      ]
    },
    {
      "cell_type": "code",
      "metadata": {
        "id": "j4W4u4A7EvG-",
        "colab_type": "code",
        "colab": {}
      },
      "source": [
        "# predict by loading the checkpointed model with the lowest validation loss\n",
        "best_model = load_model('./cnn.h5')\n",
        "pred = best_model.predict_classes(test_X_sequence)"
      ],
      "execution_count": 0,
      "outputs": []
    },
    {
      "cell_type": "code",
      "metadata": {
        "id": "UTooEXjjJrMz",
        "colab_type": "code",
        "colab": {
          "base_uri": "https://localhost:8080/",
          "height": 171
        },
        "outputId": "94a29d9c-316c-47c6-c2bd-8123491aad41"
      },
      "source": [
        "# score\n",
        "print(classification_report(test_y, pred))\n",
        "print(confusion_matrix(test_y, pred))"
      ],
      "execution_count": 66,
      "outputs": [
        {
          "output_type": "stream",
          "text": [
            "              precision    recall  f1-score   support\n",
            "\n",
            "           1       1.00      1.00      1.00        90\n",
            "\n",
            "    accuracy                           1.00        90\n",
            "   macro avg       1.00      1.00      1.00        90\n",
            "weighted avg       1.00      1.00      1.00        90\n",
            "\n",
            "[[90]]\n"
          ],
          "name": "stdout"
        }
      ]
    },
    {
      "cell_type": "code",
      "metadata": {
        "id": "-Y9NVNM1cOTe",
        "colab_type": "code",
        "colab": {
          "base_uri": "https://localhost:8080/",
          "height": 206
        },
        "outputId": "ebe09059-2350-4ca3-b088-7eabfe2fbe23"
      },
      "source": [
        "# try to predict some class 0 values using validation set\n",
        "\n",
        "pred_val = model.predict_classes(X_val)\n",
        "\n",
        "print(classification_report(y_val, pred_val))\n",
        "print(confusion_matrix(y_val, pred_val))"
      ],
      "execution_count": 67,
      "outputs": [
        {
          "output_type": "stream",
          "text": [
            "              precision    recall  f1-score   support\n",
            "\n",
            "           0       0.99      0.98      0.99       493\n",
            "           1       0.98      0.99      0.99       549\n",
            "\n",
            "    accuracy                           0.99      1042\n",
            "   macro avg       0.99      0.99      0.99      1042\n",
            "weighted avg       0.99      0.99      0.99      1042\n",
            "\n",
            "[[483  10]\n",
            " [  4 545]]\n"
          ],
          "name": "stdout"
        }
      ]
    },
    {
      "cell_type": "code",
      "metadata": {
        "id": "iVGUHHVw4m65",
        "colab_type": "code",
        "colab": {}
      },
      "source": [
        ""
      ],
      "execution_count": 0,
      "outputs": []
    },
    {
      "cell_type": "markdown",
      "metadata": {
        "id": "V6Uk91yIeRqX",
        "colab_type": "text"
      },
      "source": [
        "## Deployment\n",
        "\n",
        "1. Save pre-processors\n",
        "2. Convert to Tensorflow Lite: https://www.tensorflow.org/lite/convert#from_model_training_to_device_deployment"
      ]
    },
    {
      "cell_type": "code",
      "metadata": {
        "id": "r2ATL_6He5GM",
        "colab_type": "code",
        "colab": {}
      },
      "source": [
        "# Save preprocessors, create a dictionary so that everything in 1 place\n",
        "\n",
        "preprocessors = {\n",
        "    'variance_threshold' : vt,\n",
        "    'feature_scaler' : feature_scaler   \n",
        "}\n",
        "\n",
        "pickle.dump(preprocessors, open('./preprocessors.pkl', 'wb'))"
      ],
      "execution_count": 0,
      "outputs": []
    },
    {
      "cell_type": "code",
      "metadata": {
        "id": "S-cvueJofSG3",
        "colab_type": "code",
        "colab": {}
      },
      "source": [
        "# Convert to Tensorflow lite\n",
        "\n",
        "# older version of TFLite\n",
        "# converter = tf.lite.TFLiteConverter.from_keras_model_file('./cnn.h5')\n",
        "\n",
        "# latest version of TFLite\n",
        "saved_model = tf.keras.models.load_model('./cnn.h5')\n",
        "converter = tf.lite.TFLiteConverter.from_keras_model(saved_model)\n",
        "\n",
        "# https://www.tensorflow.org/api_docs/python/tf/lite/Optimize\n",
        "converter.optimizations = [tf.lite.Optimize.OPTIMIZE_FOR_LATENCY] \n",
        "\n",
        "tflite_model = converter.convert()\n",
        "with open('./cnn.tflite', 'wb') as f:\n",
        "  f.write(tflite_model)"
      ],
      "execution_count": 0,
      "outputs": []
    },
    {
      "cell_type": "markdown",
      "metadata": {
        "id": "JiitATTdskPd",
        "colab_type": "text"
      },
      "source": [
        "### Testing TensorFlow Lite Inference\n",
        "\n",
        "https://www.tensorflow.org/lite/guide/inference#running_a_model\n",
        "\n",
        "Before running inference on a Raspberry Pi, it is easier to write code and test out the inference on a PC or Google Cloud."
      ]
    },
    {
      "cell_type": "code",
      "metadata": {
        "id": "jDidAr3cueqA",
        "colab_type": "code",
        "colab": {}
      },
      "source": [
        "# This is the code we will run on the Raspberry Pi\n",
        "import pickle\n",
        "import numpy as np\n",
        "import tensorflow as tf\n",
        "\n",
        "def load_test_data(data_filename, preprocessors_filename):\n",
        "  timesteps = 10\n",
        "\n",
        "  # Load test data and process it\n",
        "  test_array = pickle.load(open(data_filename, 'rb'))\n",
        "\n",
        "  preprocessors = pickle.load(open(preprocessors_filename, 'rb'))\n",
        "  vt = preprocessors['variance_threshold']\n",
        "  feature_scaler = preprocessors['feature_scaler']\n",
        "\n",
        "  # select features\n",
        "  test_X = vt.transform(test_array)\n",
        "\n",
        "  # scale\n",
        "  test_X_scaled = feature_scaler.transform(test_X)\n",
        "\n",
        "  # create windowed\n",
        "  rolling_indexes = [(range(i, i+timesteps))\n",
        "                     for i in range(test_X_scaled.shape[0]-timesteps)]\n",
        "\n",
        "  test_X_sequence = np.take(test_X_scaled, rolling_indexes, axis=0)\n",
        "  print(test_X_sequence.shape) # (rows, timesteps, features)\n",
        "    \n",
        "  return test_X_sequence"
      ],
      "execution_count": 0,
      "outputs": []
    },
    {
      "cell_type": "code",
      "metadata": {
        "id": "4UVR01Qmwqoo",
        "colab_type": "code",
        "colab": {
          "base_uri": "https://localhost:8080/",
          "height": 34
        },
        "outputId": "2301e960-3222-4647-fac7-beb8635bd674"
      },
      "source": [
        "X_test = load_test_data('./X_test.pkl', './preprocessors.pkl')"
      ],
      "execution_count": 74,
      "outputs": [
        {
          "output_type": "stream",
          "text": [
            "(90, 10, 37)\n"
          ],
          "name": "stdout"
        }
      ]
    },
    {
      "cell_type": "code",
      "metadata": {
        "id": "mArG7XJat0Pu",
        "colab_type": "code",
        "colab": {}
      },
      "source": [
        "def predict(model_path, test_data):\n",
        "  # Load TFLite model and allocate tensors.\n",
        "  interpreter = tf.lite.Interpreter(model_path=model_path)\n",
        "  interpreter.allocate_tensors()\n",
        "\n",
        "  # Get input and output tensors.\n",
        "  input_details = interpreter.get_input_details()\n",
        "  output_details = interpreter.get_output_details()\n",
        "\n",
        "  # Test model on input data.\n",
        "  input_shape = input_details[0]['shape']\n",
        "\n",
        "  # Loop through each row of test_data and perform inference\n",
        "  for i in range(test_data.shape[0]):\n",
        "\n",
        "    # add batch dimension\n",
        "    input_data = np.expand_dims(test_data[i], axis=0).astype('float32')\n",
        "\n",
        "    interpreter.set_tensor(input_details[0]['index'], input_data)\n",
        "    interpreter.invoke()\n",
        "\n",
        "    # The function `get_tensor()` returns a copy of the tensor data.\n",
        "    # Use `tensor()` in order to get a pointer to the tensor.\n",
        "    output_data = interpreter.get_tensor(output_details[0]['index'])\n",
        "    print(output_data)"
      ],
      "execution_count": 0,
      "outputs": []
    },
    {
      "cell_type": "markdown",
      "metadata": {
        "id": "shAXE78UKseL",
        "colab_type": "text"
      },
      "source": [
        "### Exercise 1: Testing the compressed model\n",
        "<p>\n",
        "<font color=\"red\">\n",
        "Update the cell below to get predictions from N randomly chosen samples, using the Tensorflow Lite version of the model.\n",
        "</font>\n",
        "</p>\n",
        "<p>\n",
        "<font color=\"green\">\n",
        "Submission:\n",
        "<ol>\n",
        "<li type='a'>Paste the updated code into the submission worksheet</li>\n",
        "<li type='a'>Paste predictions into the submission worksheet</li>\n",
        "</ol>\n",
        "</font>\n",
        "</p>"
      ]
    },
    {
      "cell_type": "code",
      "metadata": {
        "id": "F__0o3I6uLtu",
        "colab_type": "code",
        "colab": {
          "base_uri": "https://localhost:8080/",
          "height": 360
        },
        "outputId": "b9c2a9ff-4c86-4227-bbaa-02d649a0280f"
      },
      "source": [
        "# Exercise: test out your compressed tensorflow lite model to get\n",
        "# predictions from randomly selected samples before deploying to the Edge device.\n",
        "#\n",
        "# Hint1: you may use the helper function above to get a prediction.\n",
        "# Hint2: you may use the following code to get a random selection of samples\n",
        "# N = <pick_a_number>\n",
        "# random_index = np.random.choice(range(len(X_test)), N)\n",
        "#\n",
        "\n",
        "X_test = load_test_data('./X_test.pkl', './preprocessors.pkl')\n",
        "\n",
        "#\n",
        "# ADD YOUR CODE BELOW\n",
        "#"
      ],
      "execution_count": 76,
      "outputs": [
        {
          "output_type": "stream",
          "text": [
            "[[0.99999964]]\n",
            "[[0.99998915]]\n",
            "[[0.9999894]]\n",
            "[[0.9999887]]\n",
            "[[0.99998903]]\n",
            "[[0.9999889]]\n",
            "[[0.9999896]]\n",
            "[[0.9999896]]\n",
            "[[0.99998915]]\n",
            "[[0.9999889]]\n",
            "[[0.99998915]]\n",
            "[[0.9999888]]\n",
            "[[0.9999896]]\n",
            "[[0.9999896]]\n",
            "[[0.9999889]]\n",
            "[[0.9999894]]\n",
            "[[0.99998856]]\n",
            "[[0.99998856]]\n",
            "[[0.9999896]]\n",
            "[[0.9999896]]\n"
          ],
          "name": "stdout"
        }
      ]
    },
    {
      "cell_type": "code",
      "metadata": {
        "id": "jEELC31DkNCy",
        "colab_type": "code",
        "colab": {}
      },
      "source": [
        ""
      ],
      "execution_count": 0,
      "outputs": []
    }
  ]
}